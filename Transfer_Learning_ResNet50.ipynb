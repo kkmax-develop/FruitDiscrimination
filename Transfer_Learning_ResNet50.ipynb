{
  "nbformat": 4,
  "nbformat_minor": 0,
  "metadata": {
    "colab": {
      "name": "Transfer Learning_ResNet50.ipynb ",
      "provenance": [],
      "toc_visible": true,
      "mount_file_id": "1FSmNcQpHUn0TH5523ErapfvgoXSM-g2G",
      "authorship_tag": "ABX9TyMkXmurWm5ANcXNtbQLpL1/",
      "include_colab_link": true
    },
    "kernelspec": {
      "name": "python3",
      "display_name": "Python 3"
    },
    "accelerator": "GPU"
  },
  "cells": [
    {
      "cell_type": "markdown",
      "metadata": {
        "id": "view-in-github",
        "colab_type": "text"
      },
      "source": [
        "<a href=\"https://colab.research.google.com/github/kkmax-develop/FruitDiscrimination/blob/master/Transfer_Learning_ResNet50.ipynb\" target=\"_parent\"><img src=\"https://colab.research.google.com/assets/colab-badge.svg\" alt=\"Open In Colab\"/></a>"
      ]
    },
    {
      "cell_type": "code",
      "metadata": {
        "id": "Mc9zWJBN4g6T",
        "colab_type": "code",
        "colab": {
          "base_uri": "https://localhost:8080/",
          "height": 35
        },
        "outputId": "1843d78e-ccec-489f-ba9e-f78291ebb7a9"
      },
      "source": [
        "# GPUが割り当てられているかチェック\n",
        "import tensorflow as tf\n",
        "tf.test.gpu_device_name()"
      ],
      "execution_count": 19,
      "outputs": [
        {
          "output_type": "execute_result",
          "data": {
            "application/vnd.google.colaboratory.intrinsic+json": {
              "type": "string"
            },
            "text/plain": [
              "'/device:GPU:0'"
            ]
          },
          "metadata": {
            "tags": []
          },
          "execution_count": 19
        }
      ]
    },
    {
      "cell_type": "markdown",
      "metadata": {
        "id": "be7wk4iOJmec",
        "colab_type": "text"
      },
      "source": [
        "### **ライブラリのインポート**"
      ]
    },
    {
      "cell_type": "code",
      "metadata": {
        "id": "BTws7pAaBA9H",
        "colab_type": "code",
        "colab": {}
      },
      "source": [
        "import os\n",
        "import numpy as np\n",
        "import matplotlib.pyplot as plt\n",
        "\n",
        "#画像認識関連ライブラリ\n",
        "from tensorflow import keras\n",
        "from tensorflow.python.keras.preprocessing import image\n",
        "from tensorflow.python.keras.preprocessing.image import ImageDataGenerator\n",
        "from tensorflow.keras.layers import Dense, Flatten, Input, Activation, add, Add, Dropout, BatchNormalization, Reshape,GlobalAveragePooling2D\n",
        "from tensorflow.keras.models import Sequential, Model\n",
        "\n",
        "#ResNet50\n",
        "from keras.applications.resnet50 import ResNet50"
      ],
      "execution_count": 20,
      "outputs": []
    },
    {
      "cell_type": "markdown",
      "metadata": {
        "id": "21A4etzp1hrd",
        "colab_type": "text"
      },
      "source": [
        "### **データの前処理**"
      ]
    },
    {
      "cell_type": "markdown",
      "metadata": {
        "id": "skxvESpU2K-c",
        "colab_type": "text"
      },
      "source": [
        "ImageDataGeneratorクラスのインスタンスを作成。各引数の意味は公式ドキュメントを参照。"
      ]
    },
    {
      "cell_type": "markdown",
      "metadata": {
        "id": "UTKuB8IA24YH",
        "colab_type": "text"
      },
      "source": [
        "https://keras.io/ja/preprocessing/image/"
      ]
    },
    {
      "cell_type": "code",
      "metadata": {
        "id": "E2Hn4Ydoq2EL",
        "colab_type": "code",
        "colab": {}
      },
      "source": [
        "# データ拡張の定義\n",
        "train_datagen = ImageDataGenerator(\n",
        "    rescale=1. / 255,\n",
        "    shear_range=0.2,\n",
        "    zoom_range=0.2,\n",
        "    horizontal_flip=True)"
      ],
      "execution_count": 21,
      "outputs": []
    },
    {
      "cell_type": "code",
      "metadata": {
        "id": "SBW-TSExciPv",
        "colab_type": "code",
        "colab": {
          "base_uri": "https://localhost:8080/",
          "height": 34
        },
        "outputId": "4fee5482-b504-4f94-e954-9be86dfb7891"
      },
      "source": [
        "# ImageDataGeneratorを使用してデータの読み込みと拡張\n",
        "batch_size = 256\n",
        "IMG_WIDTH = 32\n",
        "IMG_HEIGHT = 32\n",
        "CHANNELS = 3\n",
        "CLASSES = 131\n",
        "train_dir = \"/content/drive/My Drive/Colab Notebooks/FruitDiscrimination/data/training\"\n",
        "TARGET = [\"Apple Golden 1\",\"Avocado\",\"Banana\",\"Blueberry\",\"Cherry 1\",\"Grape Pink\",\"Kaki\",\n",
        "         \"Lemon\",\"Mango\",\"Onion Red\",\"Peach\",\"Strawberry\",\"Tomato 1\"]\n",
        "\n",
        "train_generator = train_datagen.flow_from_directory(\n",
        "            train_dir,\n",
        "            target_size=(IMG_WIDTH,IMG_HEIGHT),\n",
        "            batch_size=batch_size,\n",
        "            class_mode='categorical',\n",
        "            shuffle=True,\n",
        "            #classes=TARGET\n",
        "        )"
      ],
      "execution_count": 22,
      "outputs": [
        {
          "output_type": "stream",
          "text": [
            "Found 67693 images belonging to 131 classes.\n"
          ],
          "name": "stdout"
        }
      ]
    },
    {
      "cell_type": "code",
      "metadata": {
        "id": "SLhJskK6rFkS",
        "colab_type": "code",
        "colab": {}
      },
      "source": [
        "# validationの定義。データ拡張は行わず、正規化のみ実施。\n",
        "validation_datagen = image.ImageDataGenerator(rescale=1.0 / 255)"
      ],
      "execution_count": 23,
      "outputs": []
    },
    {
      "cell_type": "code",
      "metadata": {
        "id": "cJ2b_ZGkzUp0",
        "colab_type": "code",
        "colab": {
          "base_uri": "https://localhost:8080/",
          "height": 34
        },
        "outputId": "5b0e5dcd-f2dd-4142-be8c-ce4f12198cc6"
      },
      "source": [
        "# validationデータの読み込み\n",
        "validation_dir = \"/content/drive/My Drive/Colab Notebooks/FruitDiscrimination/data/test\"\n",
        "validation_generator = validation_datagen.flow_from_directory(\n",
        "            validation_dir,\n",
        "            target_size=(IMG_WIDTH,IMG_HEIGHT),\n",
        "            batch_size=batch_size,\n",
        "            class_mode='categorical',\n",
        "            #classes=TARGET\n",
        "        )"
      ],
      "execution_count": 24,
      "outputs": [
        {
          "output_type": "stream",
          "text": [
            "Found 22689 images belonging to 131 classes.\n"
          ],
          "name": "stdout"
        }
      ]
    },
    {
      "cell_type": "markdown",
      "metadata": {
        "id": "GdST6bjO-cOz",
        "colab_type": "text"
      },
      "source": [
        "### **モデル作成**"
      ]
    },
    {
      "cell_type": "code",
      "metadata": {
        "id": "1I_jJ7uldiNT",
        "colab_type": "code",
        "colab": {
          "base_uri": "https://localhost:8080/",
          "height": 289
        },
        "outputId": "4b0ab60b-700e-4c8a-8375-52667086e3ad"
      },
      "source": [
        "# ImageNetで学習したResNet50の読み込み\n",
        "model_ResNet50 = ResNet50(weights='imagenet',\n",
        "                     include_top=False,\n",
        "                     input_shape=(IMG_WIDTH,IMG_HEIGHT,CHANNELS))\n",
        "\n",
        "# 全結合層の追加\n",
        "model = Sequential()\n",
        "model.add(model_ResNet50)\n",
        "model.add(GlobalAveragePooling2D())\n",
        "model.add(Dense(512, activation='relu'))\n",
        "model.add(Dense(CLASSES,activation=\"softmax\"))\n",
        "\n",
        "model.summary()"
      ],
      "execution_count": 25,
      "outputs": [
        {
          "output_type": "stream",
          "text": [
            "Model: \"sequential_2\"\n",
            "_________________________________________________________________\n",
            "Layer (type)                 Output Shape              Param #   \n",
            "=================================================================\n",
            "resnet50 (Functional)        (None, 1, 1, 2048)        23587712  \n",
            "_________________________________________________________________\n",
            "global_average_pooling2d_2 ( (None, 2048)              0         \n",
            "_________________________________________________________________\n",
            "dense_4 (Dense)              (None, 512)               1049088   \n",
            "_________________________________________________________________\n",
            "dense_5 (Dense)              (None, 131)               67203     \n",
            "=================================================================\n",
            "Total params: 24,704,003\n",
            "Trainable params: 24,650,883\n",
            "Non-trainable params: 53,120\n",
            "_________________________________________________________________\n"
          ],
          "name": "stdout"
        }
      ]
    },
    {
      "cell_type": "code",
      "metadata": {
        "id": "IRoXVjhnjZ5j",
        "colab_type": "code",
        "colab": {
          "base_uri": "https://localhost:8080/",
          "height": 537
        },
        "outputId": "8b98eefd-fd7b-48a1-b0ee-7a000beb403e"
      },
      "source": [
        "# 作成したモデルの可視化\n",
        "from IPython.display import SVG\n",
        "from tensorflow.python.keras.utils.vis_utils import model_to_dot\n",
        "\n",
        "SVG(model_to_dot(model, show_shapes=True, dpi=None).create(prog='dot', format='svg'))"
      ],
      "execution_count": 26,
      "outputs": [
        {
          "output_type": "execute_result",
          "data": {
            "text/plain": [
              "<IPython.core.display.SVG object>"
            ],
            "image/svg+xml": "<svg height=\"387pt\" viewBox=\"0.00 0.00 509.00 387.00\" width=\"509pt\" xmlns=\"http://www.w3.org/2000/svg\" xmlns:xlink=\"http://www.w3.org/1999/xlink\">\n<g class=\"graph\" id=\"graph0\" transform=\"scale(1 1) rotate(0) translate(4 383)\">\n<title>G</title>\n<polygon fill=\"#ffffff\" points=\"-4,4 -4,-383 505,-383 505,4 -4,4\" stroke=\"transparent\"/>\n<!-- dpi -->\n<g class=\"node\" id=\"node1\">\n<title>dpi</title>\n<ellipse cx=\"39.5\" cy=\"-355.5\" fill=\"none\" rx=\"27\" ry=\"18\" stroke=\"#000000\"/>\n<text fill=\"#000000\" font-family=\"Times,serif\" font-size=\"14.00\" text-anchor=\"middle\" x=\"39.5\" y=\"-351.8\">dpi</text>\n</g>\n<!-- 140237139095680 -->\n<g class=\"node\" id=\"node2\">\n<title>140237139095680</title>\n<polygon fill=\"none\" points=\"84.5,-332.5 84.5,-378.5 416.5,-378.5 416.5,-332.5 84.5,-332.5\" stroke=\"#000000\"/>\n<text fill=\"#000000\" font-family=\"Times,serif\" font-size=\"14.00\" text-anchor=\"middle\" x=\"171\" y=\"-351.8\">resnet50_input: InputLayer</text>\n<polyline fill=\"none\" points=\"257.5,-332.5 257.5,-378.5 \" stroke=\"#000000\"/>\n<text fill=\"#000000\" font-family=\"Times,serif\" font-size=\"14.00\" text-anchor=\"middle\" x=\"286.5\" y=\"-363.3\">input:</text>\n<polyline fill=\"none\" points=\"257.5,-355.5 315.5,-355.5 \" stroke=\"#000000\"/>\n<text fill=\"#000000\" font-family=\"Times,serif\" font-size=\"14.00\" text-anchor=\"middle\" x=\"286.5\" y=\"-340.3\">output:</text>\n<polyline fill=\"none\" points=\"315.5,-332.5 315.5,-378.5 \" stroke=\"#000000\"/>\n<text fill=\"#000000\" font-family=\"Times,serif\" font-size=\"14.00\" text-anchor=\"middle\" x=\"366\" y=\"-363.3\">[(?, 32, 32, 3)]</text>\n<polyline fill=\"none\" points=\"315.5,-355.5 416.5,-355.5 \" stroke=\"#000000\"/>\n<text fill=\"#000000\" font-family=\"Times,serif\" font-size=\"14.00\" text-anchor=\"middle\" x=\"366\" y=\"-340.3\">[(?, 32, 32, 3)]</text>\n</g>\n<!-- 140237139257888 -->\n<g class=\"node\" id=\"node3\">\n<title>140237139257888</title>\n<polygon fill=\"none\" points=\"105,-249.5 105,-295.5 396,-295.5 396,-249.5 105,-249.5\" stroke=\"#000000\"/>\n<text fill=\"#000000\" font-family=\"Times,serif\" font-size=\"14.00\" text-anchor=\"middle\" x=\"172\" y=\"-268.8\">resnet50: Functional</text>\n<polyline fill=\"none\" points=\"239,-249.5 239,-295.5 \" stroke=\"#000000\"/>\n<text fill=\"#000000\" font-family=\"Times,serif\" font-size=\"14.00\" text-anchor=\"middle\" x=\"268\" y=\"-280.3\">input:</text>\n<polyline fill=\"none\" points=\"239,-272.5 297,-272.5 \" stroke=\"#000000\"/>\n<text fill=\"#000000\" font-family=\"Times,serif\" font-size=\"14.00\" text-anchor=\"middle\" x=\"268\" y=\"-257.3\">output:</text>\n<polyline fill=\"none\" points=\"297,-249.5 297,-295.5 \" stroke=\"#000000\"/>\n<text fill=\"#000000\" font-family=\"Times,serif\" font-size=\"14.00\" text-anchor=\"middle\" x=\"346.5\" y=\"-280.3\">(?, 32, 32, 3)</text>\n<polyline fill=\"none\" points=\"297,-272.5 396,-272.5 \" stroke=\"#000000\"/>\n<text fill=\"#000000\" font-family=\"Times,serif\" font-size=\"14.00\" text-anchor=\"middle\" x=\"346.5\" y=\"-257.3\">(?, 1, 1, 2048)</text>\n</g>\n<!-- 140237139095680&#45;&gt;140237139257888 -->\n<g class=\"edge\" id=\"edge1\">\n<title>140237139095680-&gt;140237139257888</title>\n<path d=\"M250.5,-332.3799C250.5,-324.1745 250.5,-314.7679 250.5,-305.8786\" fill=\"none\" stroke=\"#000000\"/>\n<polygon fill=\"#000000\" points=\"254.0001,-305.784 250.5,-295.784 247.0001,-305.784 254.0001,-305.784\" stroke=\"#000000\"/>\n</g>\n<!-- 140237139096520 -->\n<g class=\"node\" id=\"node4\">\n<title>140237139096520</title>\n<polygon fill=\"none\" points=\"0,-166.5 0,-212.5 501,-212.5 501,-166.5 0,-166.5\" stroke=\"#000000\"/>\n<text fill=\"#000000\" font-family=\"Times,serif\" font-size=\"14.00\" text-anchor=\"middle\" x=\"172\" y=\"-185.8\">global_average_pooling2d_2: GlobalAveragePooling2D</text>\n<polyline fill=\"none\" points=\"344,-166.5 344,-212.5 \" stroke=\"#000000\"/>\n<text fill=\"#000000\" font-family=\"Times,serif\" font-size=\"14.00\" text-anchor=\"middle\" x=\"373\" y=\"-197.3\">input:</text>\n<polyline fill=\"none\" points=\"344,-189.5 402,-189.5 \" stroke=\"#000000\"/>\n<text fill=\"#000000\" font-family=\"Times,serif\" font-size=\"14.00\" text-anchor=\"middle\" x=\"373\" y=\"-174.3\">output:</text>\n<polyline fill=\"none\" points=\"402,-166.5 402,-212.5 \" stroke=\"#000000\"/>\n<text fill=\"#000000\" font-family=\"Times,serif\" font-size=\"14.00\" text-anchor=\"middle\" x=\"451.5\" y=\"-197.3\">(?, 1, 1, 2048)</text>\n<polyline fill=\"none\" points=\"402,-189.5 501,-189.5 \" stroke=\"#000000\"/>\n<text fill=\"#000000\" font-family=\"Times,serif\" font-size=\"14.00\" text-anchor=\"middle\" x=\"451.5\" y=\"-174.3\">(?, 2048)</text>\n</g>\n<!-- 140237139257888&#45;&gt;140237139096520 -->\n<g class=\"edge\" id=\"edge2\">\n<title>140237139257888-&gt;140237139096520</title>\n<path d=\"M250.5,-249.3799C250.5,-241.1745 250.5,-231.7679 250.5,-222.8786\" fill=\"none\" stroke=\"#000000\"/>\n<polygon fill=\"#000000\" points=\"254.0001,-222.784 250.5,-212.784 247.0001,-222.784 254.0001,-222.784\" stroke=\"#000000\"/>\n</g>\n<!-- 140237139096352 -->\n<g class=\"node\" id=\"node5\">\n<title>140237139096352</title>\n<polygon fill=\"none\" points=\"133.5,-83.5 133.5,-129.5 367.5,-129.5 367.5,-83.5 133.5,-83.5\" stroke=\"#000000\"/>\n<text fill=\"#000000\" font-family=\"Times,serif\" font-size=\"14.00\" text-anchor=\"middle\" x=\"187\" y=\"-102.8\">dense_4: Dense</text>\n<polyline fill=\"none\" points=\"240.5,-83.5 240.5,-129.5 \" stroke=\"#000000\"/>\n<text fill=\"#000000\" font-family=\"Times,serif\" font-size=\"14.00\" text-anchor=\"middle\" x=\"269.5\" y=\"-114.3\">input:</text>\n<polyline fill=\"none\" points=\"240.5,-106.5 298.5,-106.5 \" stroke=\"#000000\"/>\n<text fill=\"#000000\" font-family=\"Times,serif\" font-size=\"14.00\" text-anchor=\"middle\" x=\"269.5\" y=\"-91.3\">output:</text>\n<polyline fill=\"none\" points=\"298.5,-83.5 298.5,-129.5 \" stroke=\"#000000\"/>\n<text fill=\"#000000\" font-family=\"Times,serif\" font-size=\"14.00\" text-anchor=\"middle\" x=\"333\" y=\"-114.3\">(?, 2048)</text>\n<polyline fill=\"none\" points=\"298.5,-106.5 367.5,-106.5 \" stroke=\"#000000\"/>\n<text fill=\"#000000\" font-family=\"Times,serif\" font-size=\"14.00\" text-anchor=\"middle\" x=\"333\" y=\"-91.3\">(?, 512)</text>\n</g>\n<!-- 140237139096520&#45;&gt;140237139096352 -->\n<g class=\"edge\" id=\"edge3\">\n<title>140237139096520-&gt;140237139096352</title>\n<path d=\"M250.5,-166.3799C250.5,-158.1745 250.5,-148.7679 250.5,-139.8786\" fill=\"none\" stroke=\"#000000\"/>\n<polygon fill=\"#000000\" points=\"254.0001,-139.784 250.5,-129.784 247.0001,-139.784 254.0001,-139.784\" stroke=\"#000000\"/>\n</g>\n<!-- 140237139096968 -->\n<g class=\"node\" id=\"node6\">\n<title>140237139096968</title>\n<polygon fill=\"none\" points=\"137,-.5 137,-46.5 364,-46.5 364,-.5 137,-.5\" stroke=\"#000000\"/>\n<text fill=\"#000000\" font-family=\"Times,serif\" font-size=\"14.00\" text-anchor=\"middle\" x=\"190.5\" y=\"-19.8\">dense_5: Dense</text>\n<polyline fill=\"none\" points=\"244,-.5 244,-46.5 \" stroke=\"#000000\"/>\n<text fill=\"#000000\" font-family=\"Times,serif\" font-size=\"14.00\" text-anchor=\"middle\" x=\"273\" y=\"-31.3\">input:</text>\n<polyline fill=\"none\" points=\"244,-23.5 302,-23.5 \" stroke=\"#000000\"/>\n<text fill=\"#000000\" font-family=\"Times,serif\" font-size=\"14.00\" text-anchor=\"middle\" x=\"273\" y=\"-8.3\">output:</text>\n<polyline fill=\"none\" points=\"302,-.5 302,-46.5 \" stroke=\"#000000\"/>\n<text fill=\"#000000\" font-family=\"Times,serif\" font-size=\"14.00\" text-anchor=\"middle\" x=\"333\" y=\"-31.3\">(?, 512)</text>\n<polyline fill=\"none\" points=\"302,-23.5 364,-23.5 \" stroke=\"#000000\"/>\n<text fill=\"#000000\" font-family=\"Times,serif\" font-size=\"14.00\" text-anchor=\"middle\" x=\"333\" y=\"-8.3\">(?, 131)</text>\n</g>\n<!-- 140237139096352&#45;&gt;140237139096968 -->\n<g class=\"edge\" id=\"edge4\">\n<title>140237139096352-&gt;140237139096968</title>\n<path d=\"M250.5,-83.3799C250.5,-75.1745 250.5,-65.7679 250.5,-56.8786\" fill=\"none\" stroke=\"#000000\"/>\n<polygon fill=\"#000000\" points=\"254.0001,-56.784 250.5,-46.784 247.0001,-56.784 254.0001,-56.784\" stroke=\"#000000\"/>\n</g>\n</g>\n</svg>"
          },
          "metadata": {
            "tags": []
          },
          "execution_count": 26
        }
      ]
    },
    {
      "cell_type": "markdown",
      "metadata": {
        "id": "CadZusLl-oUw",
        "colab_type": "text"
      },
      "source": [
        "### **学習**"
      ]
    },
    {
      "cell_type": "code",
      "metadata": {
        "id": "D77ST5shmcbA",
        "colab_type": "code",
        "colab": {
          "base_uri": "https://localhost:8080/",
          "height": 51
        },
        "outputId": "32e36e7e-12f4-4e6a-c058-189090aa9b61"
      },
      "source": [
        "# モデルの学習方法について指定\n",
        "model.compile(loss = keras.losses.categorical_crossentropy,\n",
        "              optimizer = keras.optimizers.RMSprop(lr=1e-4, decay = 1e-6),\n",
        "              metrics=['accuracy'])\n",
        " \n",
        "STEP_SIZE_TRAIN=train_generator.n // train_generator.batch_size\n",
        "STEP_SIZE_VALID=validation_generator.n  // validation_generator.batch_size\n",
        "\n",
        "\n",
        "\n",
        "epochs = 10\n",
        "\n",
        "# 学習 \n",
        "result = model.fit_generator(train_generator,\n",
        "                             steps_per_epoch=STEP_SIZE_TRAIN,\n",
        "                             epochs=epochs,\n",
        "                             validation_data=validation_generator,\n",
        "                             validation_steps=STEP_SIZE_VALID)\n"
      ],
      "execution_count": null,
      "outputs": [
        {
          "output_type": "stream",
          "text": [
            "Epoch 1/10\n",
            "264/264 [==============================] - ETA: 0s - loss: 0.7067 - accuracy: 0.8456"
          ],
          "name": "stdout"
        }
      ]
    },
    {
      "cell_type": "code",
      "metadata": {
        "id": "NGQj_8g6mgZB",
        "colab_type": "code",
        "colab": {}
      },
      "source": [
        "result.history.keys()"
      ],
      "execution_count": null,
      "outputs": []
    },
    {
      "cell_type": "markdown",
      "metadata": {
        "id": "FAMhsny--tpz",
        "colab_type": "text"
      },
      "source": [
        "### **学習状況の可視化**"
      ]
    },
    {
      "cell_type": "code",
      "metadata": {
        "id": "0pkjq782mjqj",
        "colab_type": "code",
        "colab": {}
      },
      "source": [
        "plt.style.use('fivethirtyeight')\n",
        "plt.title('Model Accuracy')\n",
        "plt.plot(range(1, epochs+1), result.history['accuracy'], label=\"training\")\n",
        "plt.plot(range(1, epochs+1), result.history['val_accuracy'], label=\"validation\")\n",
        "plt.xlabel('Epochs')\n",
        "plt.ylabel('Accuracy')\n",
        "plt.legend()\n",
        "plt.show()"
      ],
      "execution_count": null,
      "outputs": []
    },
    {
      "cell_type": "code",
      "metadata": {
        "id": "GG-kAisT-TUR",
        "colab_type": "code",
        "colab": {}
      },
      "source": [
        "plt.style.use('fivethirtyeight')\n",
        "plt.title('Model Loss')\n",
        "plt.plot(range(1, epochs+1), result.history['loss'], label=\"training\")\n",
        "plt.plot(range(1, epochs+1), result.history['val_loss'], label=\"validation\")\n",
        "plt.xlabel('Epochs')\n",
        "plt.ylabel('Loss')\n",
        "plt.legend()\n",
        "plt.show()"
      ],
      "execution_count": null,
      "outputs": []
    },
    {
      "cell_type": "markdown",
      "metadata": {
        "id": "hWCItcHYv4dB",
        "colab_type": "text"
      },
      "source": [
        "### **モデルの保存**"
      ]
    },
    {
      "cell_type": "code",
      "metadata": {
        "id": "olxtm1CrcNS1",
        "colab_type": "code",
        "colab": {}
      },
      "source": [
        "model.save('/content/drive/My Drive/Colab Notebooks/FruitDiscrimination/model/ResNet50_Transfer.h5') \n"
      ],
      "execution_count": null,
      "outputs": []
    }
  ]
}