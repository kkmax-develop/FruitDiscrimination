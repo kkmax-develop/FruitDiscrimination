{
  "nbformat": 4,
  "nbformat_minor": 0,
  "metadata": {
    "colab": {
      "name": "Sample_NN.ipynb",
      "provenance": [],
      "mount_file_id": "1g_5OuYFmDVTbMbe-fDDrWPxo6RIcqFXi",
      "authorship_tag": "ABX9TyPmGkGqDkjlMNQMj+IZN7HW",
      "include_colab_link": true
    },
    "kernelspec": {
      "name": "python3",
      "display_name": "Python 3"
    },
    "accelerator": "TPU"
  },
  "cells": [
    {
      "cell_type": "markdown",
      "metadata": {
        "id": "view-in-github",
        "colab_type": "text"
      },
      "source": [
        "<a href=\"https://colab.research.google.com/github/kkmax-develop/FruitDiscrimination/blob/master/Sample_NN.ipynb\" target=\"_parent\"><img src=\"https://colab.research.google.com/assets/colab-badge.svg\" alt=\"Open In Colab\"/></a>"
      ]
    },
    {
      "cell_type": "code",
      "metadata": {
        "id": "Mc9zWJBN4g6T",
        "colab_type": "code",
        "colab": {
          "base_uri": "https://localhost:8080/",
          "height": 35
        },
        "outputId": "a372513f-1797-45c7-afe5-d70a622ec1b2"
      },
      "source": [
        "# GPUが割り当てられているかチェック\n",
        "import tensorflow as tf\n",
        "tf.test.gpu_device_name()"
      ],
      "execution_count": 1,
      "outputs": [
        {
          "output_type": "execute_result",
          "data": {
            "application/vnd.google.colaboratory.intrinsic+json": {
              "type": "string"
            },
            "text/plain": [
              "''"
            ]
          },
          "metadata": {
            "tags": []
          },
          "execution_count": 1
        }
      ]
    },
    {
      "cell_type": "markdown",
      "metadata": {
        "id": "be7wk4iOJmec",
        "colab_type": "text"
      },
      "source": [
        "### **ライブラリのインポート**"
      ]
    },
    {
      "cell_type": "code",
      "metadata": {
        "id": "BTws7pAaBA9H",
        "colab_type": "code",
        "colab": {}
      },
      "source": [
        "import os\n",
        "import numpy as np\n",
        "import matplotlib.pyplot as plt\n",
        "\n",
        "#画像認識関連ライブラリ\n",
        "from tensorflow import keras\n",
        "from tensorflow.python.keras.preprocessing import image\n",
        "from tensorflow.python.keras.preprocessing.image import ImageDataGenerator\n",
        "from tensorflow.keras.layers import Dense, Flatten, Input, Activation, add, Add, Dropout, BatchNormalization, Reshape\n",
        "from tensorflow.keras.models import Sequential, Model"
      ],
      "execution_count": 2,
      "outputs": []
    },
    {
      "cell_type": "markdown",
      "metadata": {
        "id": "21A4etzp1hrd",
        "colab_type": "text"
      },
      "source": [
        "### **データの前処理**"
      ]
    },
    {
      "cell_type": "markdown",
      "metadata": {
        "id": "skxvESpU2K-c",
        "colab_type": "text"
      },
      "source": [
        "ImageDataGeneratorクラスのインスタンスを作成。各引数の意味は公式ドキュメントを参照。"
      ]
    },
    {
      "cell_type": "markdown",
      "metadata": {
        "id": "UTKuB8IA24YH",
        "colab_type": "text"
      },
      "source": [
        "https://keras.io/ja/preprocessing/image/"
      ]
    },
    {
      "cell_type": "code",
      "metadata": {
        "id": "GHypEsoMBMtd",
        "colab_type": "code",
        "colab": {}
      },
      "source": [
        "# データ拡張の定義。trainデータとvalidationデータは9：1で設定。\n",
        "datagen = image.ImageDataGenerator(\n",
        "            featurewise_center = False,\n",
        "            samplewise_center = False,\n",
        "            featurewise_std_normalization = False,\n",
        "            samplewise_std_normalization = False,\n",
        "            zca_whitening = False,\n",
        "            rotation_range = 30,\n",
        "            width_shift_range = 0.3,\n",
        "            height_shift_range = 0.3,\n",
        "            horizontal_flip = True,\n",
        "            vertical_flip = False,\n",
        "            validation_split = 0.1\n",
        "        )"
      ],
      "execution_count": 3,
      "outputs": []
    },
    {
      "cell_type": "code",
      "metadata": {
        "id": "SBW-TSExciPv",
        "colab_type": "code",
        "colab": {
          "base_uri": "https://localhost:8080/",
          "height": 34
        },
        "outputId": "c09ba74f-0abf-461a-9321-adff74be1440"
      },
      "source": [
        "# ImageDataGeneratorを使用してデータの読み込みと拡張\n",
        "batch_size = 10000\n",
        "IMG_WIDTH = 100\n",
        "IMG_HEIGHT = 100\n",
        "CHANNELS = 3\n",
        "train_dir = \"/content/drive/My Drive/Colab Notebooks/FruitDiscrimination/data/training\"\n",
        "TARGET = [\"Apple Golden 1\",\"Avocado\",\"Banana\",\"Blueberry\",\"Cherry 1\",\"Grape Pink\",\"Kaki\",\n",
        "         \"Lemon\",\"Mango\",\"Onion Red\",\"Peach\",\"Strawberry\",\"Tomato 1\"]\n",
        "\n",
        "train_generator = datagen.flow_from_directory(\n",
        "            train_dir,\n",
        "            target_size=(IMG_WIDTH,IMG_HEIGHT),\n",
        "            batch_size=batch_size,\n",
        "            class_mode='categorical',\n",
        "            shuffle=True,\n",
        "            classes=TARGET,\n",
        "            subset = \"training\" \n",
        "        )"
      ],
      "execution_count": 4,
      "outputs": [
        {
          "output_type": "stream",
          "text": [
            "Found 5841 images belonging to 13 classes.\n"
          ],
          "name": "stdout"
        }
      ]
    },
    {
      "cell_type": "code",
      "metadata": {
        "id": "cJ2b_ZGkzUp0",
        "colab_type": "code",
        "colab": {
          "base_uri": "https://localhost:8080/",
          "height": 34
        },
        "outputId": "4c842c7a-9578-4db4-ff1e-b041ca25685b"
      },
      "source": [
        "# validationデータの読み込み\n",
        "validation_generator = datagen.flow_from_directory(\n",
        "            train_dir,\n",
        "            target_size=(IMG_WIDTH,IMG_HEIGHT),\n",
        "            batch_size=batch_size,\n",
        "            class_mode='categorical',\n",
        "            shuffle=True,\n",
        "            classes=TARGET,\n",
        "            subset = \"validation\" \n",
        "        )"
      ],
      "execution_count": 5,
      "outputs": [
        {
          "output_type": "stream",
          "text": [
            "Found 646 images belonging to 13 classes.\n"
          ],
          "name": "stdout"
        }
      ]
    },
    {
      "cell_type": "code",
      "metadata": {
        "id": "Be69GjsswtC2",
        "colab_type": "code",
        "colab": {}
      },
      "source": [
        "# numpy配列へ変換(CNN等へ読み込ませる場合は不要)\n",
        "X_train, y_train = train_generator.next()\n",
        "X_val, y_val = validation_generator.next()"
      ],
      "execution_count": 7,
      "outputs": []
    },
    {
      "cell_type": "code",
      "metadata": {
        "id": "__O7P0aDy43v",
        "colab_type": "code",
        "colab": {}
      },
      "source": [
        "# 入力画像を行列(100x100x3)からベクトル(長さ30000)に変換\n",
        "X_train = X_train.reshape(-1, 30000)\n",
        "X_val = X_val.reshape(-1, 30000)"
      ],
      "execution_count": 8,
      "outputs": []
    },
    {
      "cell_type": "markdown",
      "metadata": {
        "id": "GdST6bjO-cOz",
        "colab_type": "text"
      },
      "source": [
        "### **モデル作成**"
      ]
    },
    {
      "cell_type": "code",
      "metadata": {
        "id": "1I_jJ7uldiNT",
        "colab_type": "code",
        "colab": {
          "base_uri": "https://localhost:8080/",
          "height": 255
        },
        "outputId": "44b31159-c7c1-4306-cdef-b9de1111cbc2"
      },
      "source": [
        "# 3層のニューラルネットワークを作成\n",
        "model = Sequential()\n",
        "\n",
        "# 最初のlayerはinput_shapeを指定して、入力するデータの次元を与える必要がある\n",
        "model.add(Dense(units=256, activation='relu', input_shape=(30000,)))\n",
        "model.add(Dense(units=100, activation='relu'))\n",
        "model.add(Dense(units=13, activation='softmax'))\n",
        "\n",
        "model.summary()"
      ],
      "execution_count": 22,
      "outputs": [
        {
          "output_type": "stream",
          "text": [
            "Model: \"sequential_2\"\n",
            "_________________________________________________________________\n",
            "Layer (type)                 Output Shape              Param #   \n",
            "=================================================================\n",
            "dense_6 (Dense)              (None, 256)               7680256   \n",
            "_________________________________________________________________\n",
            "dense_7 (Dense)              (None, 100)               25700     \n",
            "_________________________________________________________________\n",
            "dense_8 (Dense)              (None, 13)                1313      \n",
            "=================================================================\n",
            "Total params: 7,707,269\n",
            "Trainable params: 7,707,269\n",
            "Non-trainable params: 0\n",
            "_________________________________________________________________\n"
          ],
          "name": "stdout"
        }
      ]
    },
    {
      "cell_type": "code",
      "metadata": {
        "id": "IRoXVjhnjZ5j",
        "colab_type": "code",
        "colab": {
          "base_uri": "https://localhost:8080/",
          "height": 426
        },
        "outputId": "c239d5c6-c919-498b-8449-87510690d253"
      },
      "source": [
        "# 作成したモデルの可視化\n",
        "from IPython.display import SVG\n",
        "from tensorflow.python.keras.utils.vis_utils import model_to_dot\n",
        "\n",
        "SVG(model_to_dot(model, show_shapes=True, dpi=None).create(prog='dot', format='svg'))"
      ],
      "execution_count": 10,
      "outputs": [
        {
          "output_type": "execute_result",
          "data": {
            "text/plain": [
              "<IPython.core.display.SVG object>"
            ],
            "image/svg+xml": "<svg height=\"304pt\" viewBox=\"0.00 0.00 382.00 304.00\" width=\"382pt\" xmlns=\"http://www.w3.org/2000/svg\" xmlns:xlink=\"http://www.w3.org/1999/xlink\">\n<g class=\"graph\" id=\"graph0\" transform=\"scale(1 1) rotate(0) translate(4 300)\">\n<title>G</title>\n<polygon fill=\"#ffffff\" points=\"-4,4 -4,-300 378,-300 378,4 -4,4\" stroke=\"transparent\"/>\n<!-- dpi -->\n<g class=\"node\" id=\"node1\">\n<title>dpi</title>\n<ellipse cx=\"27\" cy=\"-272.5\" fill=\"none\" rx=\"27\" ry=\"18\" stroke=\"#000000\"/>\n<text fill=\"#000000\" font-family=\"Times,serif\" font-size=\"14.00\" text-anchor=\"middle\" x=\"27\" y=\"-268.8\">dpi</text>\n</g>\n<!-- 140355130289400 -->\n<g class=\"node\" id=\"node2\">\n<title>140355130289400</title>\n<polygon fill=\"none\" points=\"72,-249.5 72,-295.5 374,-295.5 374,-249.5 72,-249.5\" stroke=\"#000000\"/>\n<text fill=\"#000000\" font-family=\"Times,serif\" font-size=\"14.00\" text-anchor=\"middle\" x=\"151\" y=\"-268.8\">dense_input: InputLayer</text>\n<polyline fill=\"none\" points=\"230,-249.5 230,-295.5 \" stroke=\"#000000\"/>\n<text fill=\"#000000\" font-family=\"Times,serif\" font-size=\"14.00\" text-anchor=\"middle\" x=\"259\" y=\"-280.3\">input:</text>\n<polyline fill=\"none\" points=\"230,-272.5 288,-272.5 \" stroke=\"#000000\"/>\n<text fill=\"#000000\" font-family=\"Times,serif\" font-size=\"14.00\" text-anchor=\"middle\" x=\"259\" y=\"-257.3\">output:</text>\n<polyline fill=\"none\" points=\"288,-249.5 288,-295.5 \" stroke=\"#000000\"/>\n<text fill=\"#000000\" font-family=\"Times,serif\" font-size=\"14.00\" text-anchor=\"middle\" x=\"331\" y=\"-280.3\">[(?, 30000)]</text>\n<polyline fill=\"none\" points=\"288,-272.5 374,-272.5 \" stroke=\"#000000\"/>\n<text fill=\"#000000\" font-family=\"Times,serif\" font-size=\"14.00\" text-anchor=\"middle\" x=\"331\" y=\"-257.3\">[(?, 30000)]</text>\n</g>\n<!-- 140355130288056 -->\n<g class=\"node\" id=\"node3\">\n<title>140355130288056</title>\n<polygon fill=\"none\" points=\"109.5,-166.5 109.5,-212.5 336.5,-212.5 336.5,-166.5 109.5,-166.5\" stroke=\"#000000\"/>\n<text fill=\"#000000\" font-family=\"Times,serif\" font-size=\"14.00\" text-anchor=\"middle\" x=\"155.5\" y=\"-185.8\">dense: Dense</text>\n<polyline fill=\"none\" points=\"201.5,-166.5 201.5,-212.5 \" stroke=\"#000000\"/>\n<text fill=\"#000000\" font-family=\"Times,serif\" font-size=\"14.00\" text-anchor=\"middle\" x=\"230.5\" y=\"-197.3\">input:</text>\n<polyline fill=\"none\" points=\"201.5,-189.5 259.5,-189.5 \" stroke=\"#000000\"/>\n<text fill=\"#000000\" font-family=\"Times,serif\" font-size=\"14.00\" text-anchor=\"middle\" x=\"230.5\" y=\"-174.3\">output:</text>\n<polyline fill=\"none\" points=\"259.5,-166.5 259.5,-212.5 \" stroke=\"#000000\"/>\n<text fill=\"#000000\" font-family=\"Times,serif\" font-size=\"14.00\" text-anchor=\"middle\" x=\"298\" y=\"-197.3\">(?, 30000)</text>\n<polyline fill=\"none\" points=\"259.5,-189.5 336.5,-189.5 \" stroke=\"#000000\"/>\n<text fill=\"#000000\" font-family=\"Times,serif\" font-size=\"14.00\" text-anchor=\"middle\" x=\"298\" y=\"-174.3\">(?, 256)</text>\n</g>\n<!-- 140355130289400&#45;&gt;140355130288056 -->\n<g class=\"edge\" id=\"edge1\">\n<title>140355130289400-&gt;140355130288056</title>\n<path d=\"M223,-249.3799C223,-241.1745 223,-231.7679 223,-222.8786\" fill=\"none\" stroke=\"#000000\"/>\n<polygon fill=\"#000000\" points=\"226.5001,-222.784 223,-212.784 219.5001,-222.784 226.5001,-222.784\" stroke=\"#000000\"/>\n</g>\n<!-- 140355129991408 -->\n<g class=\"node\" id=\"node4\">\n<title>140355129991408</title>\n<polygon fill=\"none\" points=\"109.5,-83.5 109.5,-129.5 336.5,-129.5 336.5,-83.5 109.5,-83.5\" stroke=\"#000000\"/>\n<text fill=\"#000000\" font-family=\"Times,serif\" font-size=\"14.00\" text-anchor=\"middle\" x=\"163\" y=\"-102.8\">dense_1: Dense</text>\n<polyline fill=\"none\" points=\"216.5,-83.5 216.5,-129.5 \" stroke=\"#000000\"/>\n<text fill=\"#000000\" font-family=\"Times,serif\" font-size=\"14.00\" text-anchor=\"middle\" x=\"245.5\" y=\"-114.3\">input:</text>\n<polyline fill=\"none\" points=\"216.5,-106.5 274.5,-106.5 \" stroke=\"#000000\"/>\n<text fill=\"#000000\" font-family=\"Times,serif\" font-size=\"14.00\" text-anchor=\"middle\" x=\"245.5\" y=\"-91.3\">output:</text>\n<polyline fill=\"none\" points=\"274.5,-83.5 274.5,-129.5 \" stroke=\"#000000\"/>\n<text fill=\"#000000\" font-family=\"Times,serif\" font-size=\"14.00\" text-anchor=\"middle\" x=\"305.5\" y=\"-114.3\">(?, 256)</text>\n<polyline fill=\"none\" points=\"274.5,-106.5 336.5,-106.5 \" stroke=\"#000000\"/>\n<text fill=\"#000000\" font-family=\"Times,serif\" font-size=\"14.00\" text-anchor=\"middle\" x=\"305.5\" y=\"-91.3\">(?, 100)</text>\n</g>\n<!-- 140355130288056&#45;&gt;140355129991408 -->\n<g class=\"edge\" id=\"edge2\">\n<title>140355130288056-&gt;140355129991408</title>\n<path d=\"M223,-166.3799C223,-158.1745 223,-148.7679 223,-139.8786\" fill=\"none\" stroke=\"#000000\"/>\n<polygon fill=\"#000000\" points=\"226.5001,-139.784 223,-129.784 219.5001,-139.784 226.5001,-139.784\" stroke=\"#000000\"/>\n</g>\n<!-- 140355129991520 -->\n<g class=\"node\" id=\"node5\">\n<title>140355129991520</title>\n<polygon fill=\"none\" points=\"109.5,-.5 109.5,-46.5 336.5,-46.5 336.5,-.5 109.5,-.5\" stroke=\"#000000\"/>\n<text fill=\"#000000\" font-family=\"Times,serif\" font-size=\"14.00\" text-anchor=\"middle\" x=\"163\" y=\"-19.8\">dense_2: Dense</text>\n<polyline fill=\"none\" points=\"216.5,-.5 216.5,-46.5 \" stroke=\"#000000\"/>\n<text fill=\"#000000\" font-family=\"Times,serif\" font-size=\"14.00\" text-anchor=\"middle\" x=\"245.5\" y=\"-31.3\">input:</text>\n<polyline fill=\"none\" points=\"216.5,-23.5 274.5,-23.5 \" stroke=\"#000000\"/>\n<text fill=\"#000000\" font-family=\"Times,serif\" font-size=\"14.00\" text-anchor=\"middle\" x=\"245.5\" y=\"-8.3\">output:</text>\n<polyline fill=\"none\" points=\"274.5,-.5 274.5,-46.5 \" stroke=\"#000000\"/>\n<text fill=\"#000000\" font-family=\"Times,serif\" font-size=\"14.00\" text-anchor=\"middle\" x=\"305.5\" y=\"-31.3\">(?, 100)</text>\n<polyline fill=\"none\" points=\"274.5,-23.5 336.5,-23.5 \" stroke=\"#000000\"/>\n<text fill=\"#000000\" font-family=\"Times,serif\" font-size=\"14.00\" text-anchor=\"middle\" x=\"305.5\" y=\"-8.3\">(?, 13)</text>\n</g>\n<!-- 140355129991408&#45;&gt;140355129991520 -->\n<g class=\"edge\" id=\"edge3\">\n<title>140355129991408-&gt;140355129991520</title>\n<path d=\"M223,-83.3799C223,-75.1745 223,-65.7679 223,-56.8786\" fill=\"none\" stroke=\"#000000\"/>\n<polygon fill=\"#000000\" points=\"226.5001,-56.784 223,-46.784 219.5001,-56.784 226.5001,-56.784\" stroke=\"#000000\"/>\n</g>\n</g>\n</svg>"
          },
          "metadata": {
            "tags": []
          },
          "execution_count": 10
        }
      ]
    },
    {
      "cell_type": "markdown",
      "metadata": {
        "id": "CadZusLl-oUw",
        "colab_type": "text"
      },
      "source": [
        "### **学習**"
      ]
    },
    {
      "cell_type": "code",
      "metadata": {
        "id": "D77ST5shmcbA",
        "colab_type": "code",
        "colab": {
          "base_uri": "https://localhost:8080/",
          "height": 1000
        },
        "outputId": "2c442e17-d1a6-41a8-9d7b-c70ee0f8a625"
      },
      "source": [
        "# モデルの学習方法について指定\n",
        "model.compile(loss=keras.losses.categorical_crossentropy,\n",
        "              optimizer=keras.optimizers.Adam(lr=0.001, beta_1=0.9, beta_2=0.999, epsilon=1e-08, decay=0.0),\n",
        "              metrics=['accuracy'])\n",
        "\n",
        "epochs = 100\n",
        "\n",
        "# 学習 \n",
        "result = model.fit(X_train, y_train,\n",
        "                   batch_size=128,\n",
        "                   epochs=epochs,\n",
        "                   validation_data=(X_val, y_val),\n",
        "                  )"
      ],
      "execution_count": 27,
      "outputs": [
        {
          "output_type": "stream",
          "text": [
            "Epoch 1/100\n",
            "46/46 [==============================] - 4s 85ms/step - loss: 204.7101 - accuracy: 0.4304 - val_loss: 24.9360 - val_accuracy: 0.6130\n",
            "Epoch 2/100\n",
            "46/46 [==============================] - 4s 83ms/step - loss: 14.2389 - accuracy: 0.7283 - val_loss: 17.2132 - val_accuracy: 0.7214\n",
            "Epoch 3/100\n",
            "46/46 [==============================] - 4s 84ms/step - loss: 12.2603 - accuracy: 0.7632 - val_loss: 9.9046 - val_accuracy: 0.8189\n",
            "Epoch 4/100\n",
            "46/46 [==============================] - 4s 84ms/step - loss: 5.5789 - accuracy: 0.8517 - val_loss: 9.2850 - val_accuracy: 0.8204\n",
            "Epoch 5/100\n",
            "46/46 [==============================] - 4s 83ms/step - loss: 5.8997 - accuracy: 0.8398 - val_loss: 9.3075 - val_accuracy: 0.8375\n",
            "Epoch 6/100\n",
            "46/46 [==============================] - 4s 83ms/step - loss: 5.3065 - accuracy: 0.8574 - val_loss: 9.9907 - val_accuracy: 0.8235\n",
            "Epoch 7/100\n",
            "46/46 [==============================] - 4s 83ms/step - loss: 8.1798 - accuracy: 0.8129 - val_loss: 6.4383 - val_accuracy: 0.8777\n",
            "Epoch 8/100\n",
            "46/46 [==============================] - 4s 83ms/step - loss: 6.2020 - accuracy: 0.8317 - val_loss: 6.8406 - val_accuracy: 0.8684\n",
            "Epoch 9/100\n",
            "46/46 [==============================] - 4s 83ms/step - loss: 4.4169 - accuracy: 0.8719 - val_loss: 9.3538 - val_accuracy: 0.8297\n",
            "Epoch 10/100\n",
            "46/46 [==============================] - 4s 83ms/step - loss: 4.4265 - accuracy: 0.8689 - val_loss: 5.7820 - val_accuracy: 0.8885\n",
            "Epoch 11/100\n",
            "46/46 [==============================] - 4s 84ms/step - loss: 6.4642 - accuracy: 0.8351 - val_loss: 7.6598 - val_accuracy: 0.8483\n",
            "Epoch 12/100\n",
            "46/46 [==============================] - 4s 83ms/step - loss: 10.5546 - accuracy: 0.7970 - val_loss: 8.8366 - val_accuracy: 0.8684\n",
            "Epoch 13/100\n",
            "46/46 [==============================] - 4s 84ms/step - loss: 4.8253 - accuracy: 0.8572 - val_loss: 10.4500 - val_accuracy: 0.8313\n",
            "Epoch 14/100\n",
            "46/46 [==============================] - 4s 84ms/step - loss: 6.0197 - accuracy: 0.8392 - val_loss: 8.7711 - val_accuracy: 0.8560\n",
            "Epoch 15/100\n",
            "46/46 [==============================] - 4s 84ms/step - loss: 5.0992 - accuracy: 0.8536 - val_loss: 9.9461 - val_accuracy: 0.8437\n",
            "Epoch 16/100\n",
            "46/46 [==============================] - 4s 83ms/step - loss: 4.7860 - accuracy: 0.8697 - val_loss: 6.0622 - val_accuracy: 0.8901\n",
            "Epoch 17/100\n",
            "46/46 [==============================] - 4s 83ms/step - loss: 5.1249 - accuracy: 0.8665 - val_loss: 4.6075 - val_accuracy: 0.8854\n",
            "Epoch 18/100\n",
            "46/46 [==============================] - 4s 83ms/step - loss: 2.8557 - accuracy: 0.8986 - val_loss: 7.1075 - val_accuracy: 0.8762\n",
            "Epoch 19/100\n",
            "46/46 [==============================] - 4s 84ms/step - loss: 4.7616 - accuracy: 0.8617 - val_loss: 10.0794 - val_accuracy: 0.8034\n",
            "Epoch 20/100\n",
            "46/46 [==============================] - 4s 83ms/step - loss: 9.8064 - accuracy: 0.7971 - val_loss: 12.8942 - val_accuracy: 0.8173\n",
            "Epoch 21/100\n",
            "46/46 [==============================] - 4s 83ms/step - loss: 8.7863 - accuracy: 0.8158 - val_loss: 10.3001 - val_accuracy: 0.8483\n",
            "Epoch 22/100\n",
            "46/46 [==============================] - 4s 84ms/step - loss: 7.0742 - accuracy: 0.8264 - val_loss: 8.0999 - val_accuracy: 0.8483\n",
            "Epoch 23/100\n",
            "46/46 [==============================] - 4s 84ms/step - loss: 5.6429 - accuracy: 0.8449 - val_loss: 6.6816 - val_accuracy: 0.8483\n",
            "Epoch 24/100\n",
            "46/46 [==============================] - 4s 83ms/step - loss: 5.5341 - accuracy: 0.8454 - val_loss: 6.6507 - val_accuracy: 0.8096\n",
            "Epoch 25/100\n",
            "46/46 [==============================] - 4s 83ms/step - loss: 5.2346 - accuracy: 0.8511 - val_loss: 6.9124 - val_accuracy: 0.8483\n",
            "Epoch 26/100\n",
            "46/46 [==============================] - 4s 84ms/step - loss: 4.7659 - accuracy: 0.8536 - val_loss: 10.1841 - val_accuracy: 0.8313\n",
            "Epoch 27/100\n",
            "46/46 [==============================] - 4s 84ms/step - loss: 3.8153 - accuracy: 0.8723 - val_loss: 4.8622 - val_accuracy: 0.8762\n",
            "Epoch 28/100\n",
            "46/46 [==============================] - 4s 84ms/step - loss: 1.9364 - accuracy: 0.9106 - val_loss: 4.5621 - val_accuracy: 0.8669\n",
            "Epoch 29/100\n",
            "46/46 [==============================] - 4s 83ms/step - loss: 3.6056 - accuracy: 0.8767 - val_loss: 5.4631 - val_accuracy: 0.8622\n",
            "Epoch 30/100\n",
            "46/46 [==============================] - 4s 84ms/step - loss: 4.9712 - accuracy: 0.8572 - val_loss: 16.8432 - val_accuracy: 0.7647\n",
            "Epoch 31/100\n",
            "46/46 [==============================] - 4s 84ms/step - loss: 10.1386 - accuracy: 0.7858 - val_loss: 15.5543 - val_accuracy: 0.7601\n",
            "Epoch 32/100\n",
            "46/46 [==============================] - 4s 83ms/step - loss: 9.2451 - accuracy: 0.8163 - val_loss: 7.6817 - val_accuracy: 0.8576\n",
            "Epoch 33/100\n",
            "46/46 [==============================] - 4s 84ms/step - loss: 3.7678 - accuracy: 0.8850 - val_loss: 5.8278 - val_accuracy: 0.8746\n",
            "Epoch 34/100\n",
            "46/46 [==============================] - 4s 84ms/step - loss: 2.1323 - accuracy: 0.9188 - val_loss: 6.4972 - val_accuracy: 0.8622\n",
            "Epoch 35/100\n",
            "46/46 [==============================] - 4s 83ms/step - loss: 2.8194 - accuracy: 0.8963 - val_loss: 2.6955 - val_accuracy: 0.9056\n",
            "Epoch 36/100\n",
            "46/46 [==============================] - 4s 84ms/step - loss: 1.6989 - accuracy: 0.9252 - val_loss: 3.6092 - val_accuracy: 0.8916\n",
            "Epoch 37/100\n",
            "46/46 [==============================] - 4s 84ms/step - loss: 1.4943 - accuracy: 0.9312 - val_loss: 7.4119 - val_accuracy: 0.9071\n",
            "Epoch 38/100\n",
            "46/46 [==============================] - 4s 84ms/step - loss: 1.2558 - accuracy: 0.9334 - val_loss: 2.3208 - val_accuracy: 0.9133\n",
            "Epoch 39/100\n",
            "46/46 [==============================] - 4s 84ms/step - loss: 3.7482 - accuracy: 0.8814 - val_loss: 9.6205 - val_accuracy: 0.7910\n",
            "Epoch 40/100\n",
            "46/46 [==============================] - 4s 84ms/step - loss: 4.3573 - accuracy: 0.8629 - val_loss: 3.9004 - val_accuracy: 0.8932\n",
            "Epoch 41/100\n",
            "46/46 [==============================] - 4s 84ms/step - loss: 2.0312 - accuracy: 0.9123 - val_loss: 7.4303 - val_accuracy: 0.8529\n",
            "Epoch 42/100\n",
            "46/46 [==============================] - 4s 85ms/step - loss: 2.8707 - accuracy: 0.8906 - val_loss: 4.6841 - val_accuracy: 0.9025\n",
            "Epoch 43/100\n",
            "46/46 [==============================] - 4s 84ms/step - loss: 3.7854 - accuracy: 0.8687 - val_loss: 4.9639 - val_accuracy: 0.8839\n",
            "Epoch 44/100\n",
            "46/46 [==============================] - 4s 84ms/step - loss: 3.7543 - accuracy: 0.8695 - val_loss: 5.3733 - val_accuracy: 0.8731\n",
            "Epoch 45/100\n",
            "46/46 [==============================] - 4s 83ms/step - loss: 2.8266 - accuracy: 0.8860 - val_loss: 7.5425 - val_accuracy: 0.8824\n",
            "Epoch 46/100\n",
            "46/46 [==============================] - 4s 84ms/step - loss: 2.2856 - accuracy: 0.8992 - val_loss: 2.8743 - val_accuracy: 0.8978\n",
            "Epoch 47/100\n",
            "46/46 [==============================] - 4s 84ms/step - loss: 3.1516 - accuracy: 0.8781 - val_loss: 5.3871 - val_accuracy: 0.8901\n",
            "Epoch 48/100\n",
            "46/46 [==============================] - 4s 83ms/step - loss: 2.2583 - accuracy: 0.9132 - val_loss: 2.9027 - val_accuracy: 0.8885\n",
            "Epoch 49/100\n",
            "46/46 [==============================] - 4s 84ms/step - loss: 4.3448 - accuracy: 0.8704 - val_loss: 10.7927 - val_accuracy: 0.8390\n",
            "Epoch 50/100\n",
            "46/46 [==============================] - 4s 84ms/step - loss: 12.0736 - accuracy: 0.7754 - val_loss: 15.3262 - val_accuracy: 0.7090\n",
            "Epoch 51/100\n",
            "46/46 [==============================] - 4s 83ms/step - loss: 5.5378 - accuracy: 0.8353 - val_loss: 4.4527 - val_accuracy: 0.8901\n",
            "Epoch 52/100\n",
            "46/46 [==============================] - 4s 83ms/step - loss: 2.7533 - accuracy: 0.8980 - val_loss: 2.9196 - val_accuracy: 0.9071\n",
            "Epoch 53/100\n",
            "46/46 [==============================] - 4s 83ms/step - loss: 2.2037 - accuracy: 0.9130 - val_loss: 4.1626 - val_accuracy: 0.8622\n",
            "Epoch 54/100\n",
            "46/46 [==============================] - 4s 84ms/step - loss: 1.4942 - accuracy: 0.9339 - val_loss: 6.6966 - val_accuracy: 0.8065\n",
            "Epoch 55/100\n",
            "46/46 [==============================] - 4s 83ms/step - loss: 3.0714 - accuracy: 0.8923 - val_loss: 6.4649 - val_accuracy: 0.8793\n",
            "Epoch 56/100\n",
            "46/46 [==============================] - 4s 83ms/step - loss: 4.1100 - accuracy: 0.8815 - val_loss: 4.3188 - val_accuracy: 0.8607\n",
            "Epoch 57/100\n",
            "46/46 [==============================] - 4s 84ms/step - loss: 3.9688 - accuracy: 0.8721 - val_loss: 7.6796 - val_accuracy: 0.8235\n",
            "Epoch 58/100\n",
            "46/46 [==============================] - 4s 83ms/step - loss: 4.1734 - accuracy: 0.8733 - val_loss: 10.5407 - val_accuracy: 0.8375\n",
            "Epoch 59/100\n",
            "46/46 [==============================] - 4s 83ms/step - loss: 2.9037 - accuracy: 0.8940 - val_loss: 4.5979 - val_accuracy: 0.8622\n",
            "Epoch 60/100\n",
            "46/46 [==============================] - 4s 83ms/step - loss: 2.1945 - accuracy: 0.9058 - val_loss: 3.4911 - val_accuracy: 0.8978\n",
            "Epoch 61/100\n",
            "46/46 [==============================] - 4s 83ms/step - loss: 1.7585 - accuracy: 0.9243 - val_loss: 4.1797 - val_accuracy: 0.9211\n",
            "Epoch 62/100\n",
            "46/46 [==============================] - 4s 84ms/step - loss: 1.1683 - accuracy: 0.9478 - val_loss: 5.6323 - val_accuracy: 0.8916\n",
            "Epoch 63/100\n",
            "46/46 [==============================] - 4s 83ms/step - loss: 1.1507 - accuracy: 0.9438 - val_loss: 2.7236 - val_accuracy: 0.9071\n",
            "Epoch 64/100\n",
            "46/46 [==============================] - 4s 83ms/step - loss: 0.8808 - accuracy: 0.9504 - val_loss: 1.8980 - val_accuracy: 0.9365\n",
            "Epoch 65/100\n",
            "46/46 [==============================] - 4s 84ms/step - loss: 1.3929 - accuracy: 0.9413 - val_loss: 5.4634 - val_accuracy: 0.8467\n",
            "Epoch 66/100\n",
            "46/46 [==============================] - 4s 83ms/step - loss: 4.8215 - accuracy: 0.8659 - val_loss: 26.2194 - val_accuracy: 0.6780\n",
            "Epoch 67/100\n",
            "46/46 [==============================] - 4s 83ms/step - loss: 15.3620 - accuracy: 0.7333 - val_loss: 12.4568 - val_accuracy: 0.7926\n",
            "Epoch 68/100\n",
            "46/46 [==============================] - 4s 83ms/step - loss: 3.9544 - accuracy: 0.8725 - val_loss: 8.2470 - val_accuracy: 0.8467\n",
            "Epoch 69/100\n",
            "46/46 [==============================] - 4s 83ms/step - loss: 2.1867 - accuracy: 0.9127 - val_loss: 3.8377 - val_accuracy: 0.8746\n",
            "Epoch 70/100\n",
            "46/46 [==============================] - 4s 83ms/step - loss: 2.2902 - accuracy: 0.9111 - val_loss: 5.9970 - val_accuracy: 0.8777\n",
            "Epoch 71/100\n",
            "46/46 [==============================] - 4s 83ms/step - loss: 2.9741 - accuracy: 0.8995 - val_loss: 5.3354 - val_accuracy: 0.8824\n",
            "Epoch 72/100\n",
            "46/46 [==============================] - 4s 83ms/step - loss: 5.3718 - accuracy: 0.8332 - val_loss: 5.1851 - val_accuracy: 0.8452\n",
            "Epoch 73/100\n",
            "46/46 [==============================] - 4s 84ms/step - loss: 2.5924 - accuracy: 0.8882 - val_loss: 4.6664 - val_accuracy: 0.8669\n",
            "Epoch 74/100\n",
            "46/46 [==============================] - 4s 84ms/step - loss: 3.5130 - accuracy: 0.8766 - val_loss: 4.6027 - val_accuracy: 0.8870\n",
            "Epoch 75/100\n",
            "46/46 [==============================] - 4s 84ms/step - loss: 3.8377 - accuracy: 0.8630 - val_loss: 3.5293 - val_accuracy: 0.8901\n",
            "Epoch 76/100\n",
            "46/46 [==============================] - 4s 83ms/step - loss: 3.7689 - accuracy: 0.8560 - val_loss: 4.8702 - val_accuracy: 0.8189\n",
            "Epoch 77/100\n",
            "46/46 [==============================] - 4s 84ms/step - loss: 2.0087 - accuracy: 0.8964 - val_loss: 2.5973 - val_accuracy: 0.9211\n",
            "Epoch 78/100\n",
            "46/46 [==============================] - 4s 83ms/step - loss: 4.3309 - accuracy: 0.8569 - val_loss: 7.5428 - val_accuracy: 0.8050\n",
            "Epoch 79/100\n",
            "46/46 [==============================] - 4s 83ms/step - loss: 2.5178 - accuracy: 0.8896 - val_loss: 4.6678 - val_accuracy: 0.8421\n",
            "Epoch 80/100\n",
            "46/46 [==============================] - 4s 83ms/step - loss: 2.2593 - accuracy: 0.9012 - val_loss: 1.8103 - val_accuracy: 0.9396\n",
            "Epoch 81/100\n",
            "46/46 [==============================] - 4s 84ms/step - loss: 1.4701 - accuracy: 0.9262 - val_loss: 2.7416 - val_accuracy: 0.9118\n",
            "Epoch 82/100\n",
            "46/46 [==============================] - 4s 83ms/step - loss: 2.5913 - accuracy: 0.8918 - val_loss: 3.7815 - val_accuracy: 0.9025\n",
            "Epoch 83/100\n",
            "46/46 [==============================] - 4s 84ms/step - loss: 3.4394 - accuracy: 0.8759 - val_loss: 4.3744 - val_accuracy: 0.8359\n",
            "Epoch 84/100\n",
            "46/46 [==============================] - 4s 83ms/step - loss: 2.4500 - accuracy: 0.9052 - val_loss: 5.4413 - val_accuracy: 0.8514\n",
            "Epoch 85/100\n",
            "46/46 [==============================] - 4s 83ms/step - loss: 1.9516 - accuracy: 0.9077 - val_loss: 3.3828 - val_accuracy: 0.8808\n",
            "Epoch 86/100\n",
            "46/46 [==============================] - 4s 83ms/step - loss: 1.4528 - accuracy: 0.9269 - val_loss: 3.6663 - val_accuracy: 0.8901\n",
            "Epoch 87/100\n",
            "46/46 [==============================] - 4s 83ms/step - loss: 1.3188 - accuracy: 0.9322 - val_loss: 1.1471 - val_accuracy: 0.9474\n",
            "Epoch 88/100\n",
            "46/46 [==============================] - 4s 83ms/step - loss: 3.6911 - accuracy: 0.8646 - val_loss: 4.2758 - val_accuracy: 0.8452\n",
            "Epoch 89/100\n",
            "46/46 [==============================] - 4s 84ms/step - loss: 2.3578 - accuracy: 0.9017 - val_loss: 6.9501 - val_accuracy: 0.8158\n",
            "Epoch 90/100\n",
            "46/46 [==============================] - 4s 83ms/step - loss: 1.8333 - accuracy: 0.9132 - val_loss: 3.2680 - val_accuracy: 0.9102\n",
            "Epoch 91/100\n",
            "46/46 [==============================] - 4s 83ms/step - loss: 1.6000 - accuracy: 0.9278 - val_loss: 2.3811 - val_accuracy: 0.9211\n",
            "Epoch 92/100\n",
            "46/46 [==============================] - 4s 84ms/step - loss: 0.8091 - accuracy: 0.9514 - val_loss: 2.2511 - val_accuracy: 0.9303\n",
            "Epoch 93/100\n",
            "46/46 [==============================] - 4s 84ms/step - loss: 0.6830 - accuracy: 0.9515 - val_loss: 2.7802 - val_accuracy: 0.9102\n",
            "Epoch 94/100\n",
            "46/46 [==============================] - 4s 84ms/step - loss: 1.0713 - accuracy: 0.9332 - val_loss: 3.0819 - val_accuracy: 0.8947\n",
            "Epoch 95/100\n",
            "46/46 [==============================] - 4s 83ms/step - loss: 4.4698 - accuracy: 0.8488 - val_loss: 4.6664 - val_accuracy: 0.8591\n",
            "Epoch 96/100\n",
            "46/46 [==============================] - 4s 84ms/step - loss: 6.2914 - accuracy: 0.8149 - val_loss: 5.0015 - val_accuracy: 0.8854\n",
            "Epoch 97/100\n",
            "46/46 [==============================] - 4s 83ms/step - loss: 3.4762 - accuracy: 0.8596 - val_loss: 3.8934 - val_accuracy: 0.8406\n",
            "Epoch 98/100\n",
            "46/46 [==============================] - 4s 83ms/step - loss: 1.9943 - accuracy: 0.9089 - val_loss: 3.6378 - val_accuracy: 0.8437\n",
            "Epoch 99/100\n",
            "46/46 [==============================] - 4s 83ms/step - loss: 1.1392 - accuracy: 0.9367 - val_loss: 3.4555 - val_accuracy: 0.8978\n",
            "Epoch 100/100\n",
            "46/46 [==============================] - 4s 83ms/step - loss: 1.7254 - accuracy: 0.9144 - val_loss: 2.2860 - val_accuracy: 0.9241\n"
          ],
          "name": "stdout"
        }
      ]
    },
    {
      "cell_type": "code",
      "metadata": {
        "id": "NGQj_8g6mgZB",
        "colab_type": "code",
        "colab": {
          "base_uri": "https://localhost:8080/",
          "height": 34
        },
        "outputId": "469860a9-c23e-4c3f-b096-0a76f673851c"
      },
      "source": [
        "result.history.keys()"
      ],
      "execution_count": 24,
      "outputs": [
        {
          "output_type": "execute_result",
          "data": {
            "text/plain": [
              "dict_keys(['loss', 'accuracy', 'val_loss', 'val_accuracy'])"
            ]
          },
          "metadata": {
            "tags": []
          },
          "execution_count": 24
        }
      ]
    },
    {
      "cell_type": "markdown",
      "metadata": {
        "id": "FAMhsny--tpz",
        "colab_type": "text"
      },
      "source": [
        "### **学習状況の可視化**"
      ]
    },
    {
      "cell_type": "code",
      "metadata": {
        "id": "0pkjq782mjqj",
        "colab_type": "code",
        "colab": {
          "base_uri": "https://localhost:8080/",
          "height": 325
        },
        "outputId": "6053207b-8a13-4000-9a42-d078d41e25c5"
      },
      "source": [
        "plt.style.use('fivethirtyeight')\n",
        "plt.title('Model Accuracy')\n",
        "plt.plot(range(1, epochs+1), result.history['accuracy'], label=\"training\")\n",
        "plt.plot(range(1, epochs+1), result.history['val_accuracy'], label=\"validation\")\n",
        "plt.xlabel('Epochs')\n",
        "plt.ylabel('Accuracy')\n",
        "plt.legend()\n",
        "plt.show()"
      ],
      "execution_count": 28,
      "outputs": [
        {
          "output_type": "display_data",
          "data": {
            "image/png": "[encoded data removed]",
            "text/plain": [
              "<Figure size 432x288 with 1 Axes>"
            ]
          },
          "metadata": {
            "tags": []
          }
        }
      ]
    },
    {
      "cell_type": "code",
      "metadata": {
        "id": "GG-kAisT-TUR",
        "colab_type": "code",
        "colab": {
          "base_uri": "https://localhost:8080/",
          "height": 325
        },
        "outputId": "e26320f9-b809-41e6-87a3-1e8ad20f3802"
      },
      "source": [
        "plt.style.use('fivethirtyeight')\n",
        "plt.title('Model Loss')\n",
        "plt.plot(range(1, epochs+1), result.history['loss'], label=\"training\")\n",
        "plt.plot(range(1, epochs+1), result.history['val_loss'], label=\"validation\")\n",
        "plt.xlabel('Epochs')\n",
        "plt.ylabel('Loss')\n",
        "plt.legend()\n",
        "plt.show()"
      ],
      "execution_count": 29,
      "outputs": [
        {
          "output_type": "display_data",
          "data": {
            "image/png": "[encoded data removed]",
            "text/plain": [
              "<Figure size 432x288 with 1 Axes>"
            ]
          },
          "metadata": {
            "tags": []
          }
        }
      ]
    },
    {
      "cell_type": "code",
      "metadata": {
        "id": "olxtm1CrcNS1",
        "colab_type": "code",
        "colab": {}
      },
      "source": [
        ""
      ],
      "execution_count": null,
      "outputs": []
    }
  ]
}