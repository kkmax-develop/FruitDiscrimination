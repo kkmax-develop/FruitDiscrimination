{
  "nbformat": 4,
  "nbformat_minor": 0,
  "metadata": {
    "colab": {
      "name": "Sample_NN.ipynb",
      "provenance": [],
      "mount_file_id": "1g_5OuYFmDVTbMbe-fDDrWPxo6RIcqFXi",
      "authorship_tag": "ABX9TyNsNo2zENGvbzxByXOIsoA0",
      "include_colab_link": true
    },
    "kernelspec": {
      "name": "python3",
      "display_name": "Python 3"
    }
  },
  "cells": [
    {
      "cell_type": "markdown",
      "metadata": {
        "id": "view-in-github",
        "colab_type": "text"
      },
      "source": [
        "<a href=\"https://colab.research.google.com/github/kkmax-develop/FruitDiscrimination/blob/master/Sample_NN.ipynb\" target=\"_parent\"><img src=\"https://colab.research.google.com/assets/colab-badge.svg\" alt=\"Open In Colab\"/></a>"
      ]
    },
    {
      "cell_type": "code",
      "metadata": {
        "id": "Mc9zWJBN4g6T",
        "colab_type": "code",
        "colab": {
          "base_uri": "https://localhost:8080/",
          "height": 35
        },
        "outputId": "74c26173-fdb1-4ff1-b749-e3dcde8e0553"
      },
      "source": [
        "# GPUが割り当てられているかチェック\n",
        "import tensorflow as tf\n",
        "tf.test.gpu_device_name()"
      ],
      "execution_count": 1,
      "outputs": [
        {
          "output_type": "execute_result",
          "data": {
            "application/vnd.google.colaboratory.intrinsic+json": {
              "type": "string"
            },
            "text/plain": [
              "''"
            ]
          },
          "metadata": {
            "tags": []
          },
          "execution_count": 1
        }
      ]
    },
    {
      "cell_type": "markdown",
      "metadata": {
        "id": "be7wk4iOJmec",
        "colab_type": "text"
      },
      "source": [
        "### **ライブラリのインポート**"
      ]
    },
    {
      "cell_type": "code",
      "metadata": {
        "id": "BTws7pAaBA9H",
        "colab_type": "code",
        "colab": {}
      },
      "source": [
        "import os\n",
        "import numpy as np\n",
        "import matplotlib.pyplot as plt\n",
        "\n",
        "#画像認識関連ライブラリ\n",
        "from tensorflow import keras\n",
        "from tensorflow.python.keras.preprocessing import image\n",
        "from tensorflow.python.keras.preprocessing.image import ImageDataGenerator\n",
        "from tensorflow.keras.layers import Dense, Flatten, Input, Activation, add, Add, Dropout, BatchNormalization, Reshape\n",
        "from tensorflow.keras.models import Sequential, Model"
      ],
      "execution_count": 2,
      "outputs": []
    },
    {
      "cell_type": "markdown",
      "metadata": {
        "id": "21A4etzp1hrd",
        "colab_type": "text"
      },
      "source": [
        "### **データの前処理**"
      ]
    },
    {
      "cell_type": "markdown",
      "metadata": {
        "id": "skxvESpU2K-c",
        "colab_type": "text"
      },
      "source": [
        "ImageDataGeneratorクラスのインスタンスを作成。各引数の意味は公式ドキュメントを参照。"
      ]
    },
    {
      "cell_type": "markdown",
      "metadata": {
        "id": "UTKuB8IA24YH",
        "colab_type": "text"
      },
      "source": [
        "https://keras.io/ja/preprocessing/image/"
      ]
    },
    {
      "cell_type": "code",
      "metadata": {
        "id": "GHypEsoMBMtd",
        "colab_type": "code",
        "colab": {}
      },
      "source": [
        "# データ拡張の定義。データ拡張は行わず、正規化とデータ分割のみ実施。trainデータとvalidationデータは8：2で設定。\n",
        "datagen = image.ImageDataGenerator(rescale=1.0 / 255,validation_split = 0.2)"
      ],
      "execution_count": 3,
      "outputs": []
    },
    {
      "cell_type": "code",
      "metadata": {
        "id": "SBW-TSExciPv",
        "colab_type": "code",
        "colab": {
          "base_uri": "https://localhost:8080/",
          "height": 34
        },
        "outputId": "3f9b3d37-f1bc-4421-95a0-e5c4dc412082"
      },
      "source": [
        "# ImageDataGeneratorを使用してデータの読み込みと拡張\n",
        "batch_size = 10000\n",
        "IMG_WIDTH = 100\n",
        "IMG_HEIGHT = 100\n",
        "CHANNELS = 3\n",
        "CLASSES = 131\n",
        "train_dir = \"/content/drive/My Drive/Colab Notebooks/FruitDiscrimination/data/training\"\n",
        "TARGET = [\"Apple Golden 1\",\"Avocado\",\"Banana\",\"Blueberry\",\"Cherry 1\",\"Grape Pink\",\"Kaki\",\n",
        "          \n",
        "         \"Lemon\",\"Mango\",\"Onion Red\",\"Peach\",\"Strawberry\",\"Tomato 1\"]\n",
        "\n",
        "train_generator = datagen.flow_from_directory(\n",
        "            train_dir,\n",
        "            target_size=(IMG_WIDTH,IMG_HEIGHT),\n",
        "            batch_size=batch_size,\n",
        "            class_mode='categorical',\n",
        "            shuffle=True,\n",
        "            #classes=TARGET,\n",
        "            subset = \"training\" \n",
        "        )"
      ],
      "execution_count": 4,
      "outputs": [
        {
          "output_type": "stream",
          "text": [
            "Found 54191 images belonging to 131 classes.\n"
          ],
          "name": "stdout"
        }
      ]
    },
    {
      "cell_type": "code",
      "metadata": {
        "id": "cJ2b_ZGkzUp0",
        "colab_type": "code",
        "colab": {
          "base_uri": "https://localhost:8080/",
          "height": 34
        },
        "outputId": "d0da070d-a096-4d54-e916-6a5d0ddf3a99"
      },
      "source": [
        "# validationデータの読み込み\n",
        "validation_generator = datagen.flow_from_directory(\n",
        "            train_dir,\n",
        "            target_size=(IMG_WIDTH,IMG_HEIGHT),\n",
        "            batch_size=batch_size,\n",
        "            class_mode='categorical',\n",
        "            shuffle=True,\n",
        "            #classes=TARGET,\n",
        "            subset = \"validation\" \n",
        "        )"
      ],
      "execution_count": 5,
      "outputs": [
        {
          "output_type": "stream",
          "text": [
            "Found 13502 images belonging to 131 classes.\n"
          ],
          "name": "stdout"
        }
      ]
    },
    {
      "cell_type": "code",
      "metadata": {
        "id": "Be69GjsswtC2",
        "colab_type": "code",
        "colab": {}
      },
      "source": [
        "# numpy配列へ変換(CNN等へ読み込ませる場合は不要)\n",
        "X_train, y_train = train_generator.next()\n",
        "X_val, y_val = validation_generator.next()"
      ],
      "execution_count": null,
      "outputs": []
    },
    {
      "cell_type": "code",
      "metadata": {
        "id": "__O7P0aDy43v",
        "colab_type": "code",
        "colab": {}
      },
      "source": [
        "# 入力画像を行列(100x100x3)からベクトル(長さ30000)に変換\n",
        "X_train = X_train.reshape(-1, 30000)\n",
        "X_val = X_val.reshape(-1, 30000)"
      ],
      "execution_count": null,
      "outputs": []
    },
    {
      "cell_type": "markdown",
      "metadata": {
        "id": "GdST6bjO-cOz",
        "colab_type": "text"
      },
      "source": [
        "### **モデル作成**"
      ]
    },
    {
      "cell_type": "code",
      "metadata": {
        "id": "1I_jJ7uldiNT",
        "colab_type": "code",
        "colab": {}
      },
      "source": [
        "# 3層のニューラルネットワークを作成\n",
        "model = Sequential()\n",
        "\n",
        "# 最初のlayerはinput_shapeを指定して、入力するデータの次元を与える必要がある\n",
        "model.add(Dense(units=256, activation='relu', input_shape=(30000,)))\n",
        "model.add(Dense(units=100, activation='relu'))\n",
        "model.add(Dense(units=CLASSES, activation='softmax'))\n",
        "\n",
        "model.summary()"
      ],
      "execution_count": null,
      "outputs": []
    },
    {
      "cell_type": "code",
      "metadata": {
        "id": "IRoXVjhnjZ5j",
        "colab_type": "code",
        "colab": {}
      },
      "source": [
        "# 作成したモデルの可視化\n",
        "from IPython.display import SVG\n",
        "from tensorflow.python.keras.utils.vis_utils import model_to_dot\n",
        "\n",
        "SVG(model_to_dot(model, show_shapes=True, dpi=None).create(prog='dot', format='svg'))"
      ],
      "execution_count": null,
      "outputs": []
    },
    {
      "cell_type": "markdown",
      "metadata": {
        "id": "CadZusLl-oUw",
        "colab_type": "text"
      },
      "source": [
        "### **学習**"
      ]
    },
    {
      "cell_type": "code",
      "metadata": {
        "id": "D77ST5shmcbA",
        "colab_type": "code",
        "colab": {}
      },
      "source": [
        "# モデルの学習方法について指定\n",
        "model.compile(loss=keras.losses.categorical_crossentropy,\n",
        "              optimizer=keras.optimizers.Adam(lr=0.001, beta_1=0.9, beta_2=0.999, epsilon=1e-08, decay=0.0),\n",
        "              metrics=['accuracy'])\n",
        "\n",
        "epochs = 100\n",
        "\n",
        "# 学習 \n",
        "result = model.fit(X_train, y_train,\n",
        "                   batch_size=128,\n",
        "                   epochs=epochs,\n",
        "                   validation_data=(X_val, y_val),)"
      ],
      "execution_count": null,
      "outputs": []
    },
    {
      "cell_type": "code",
      "metadata": {
        "id": "NGQj_8g6mgZB",
        "colab_type": "code",
        "colab": {}
      },
      "source": [
        "result.history.keys()"
      ],
      "execution_count": null,
      "outputs": []
    },
    {
      "cell_type": "markdown",
      "metadata": {
        "id": "FAMhsny--tpz",
        "colab_type": "text"
      },
      "source": [
        "### **学習状況の可視化**"
      ]
    },
    {
      "cell_type": "code",
      "metadata": {
        "id": "0pkjq782mjqj",
        "colab_type": "code",
        "colab": {}
      },
      "source": [
        "plt.style.use('fivethirtyeight')\n",
        "plt.title('Model Accuracy')\n",
        "plt.plot(range(1, epochs+1), result.history['accuracy'], label=\"training\")\n",
        "plt.plot(range(1, epochs+1), result.history['val_accuracy'], label=\"validation\")\n",
        "plt.xlabel('Epochs')\n",
        "plt.ylabel('Accuracy')\n",
        "plt.legend()\n",
        "plt.show()"
      ],
      "execution_count": null,
      "outputs": []
    },
    {
      "cell_type": "code",
      "metadata": {
        "id": "GG-kAisT-TUR",
        "colab_type": "code",
        "colab": {}
      },
      "source": [
        "plt.style.use('fivethirtyeight')\n",
        "plt.title('Model Loss')\n",
        "plt.plot(range(1, epochs+1), result.history['loss'], label=\"training\")\n",
        "plt.plot(range(1, epochs+1), result.history['val_loss'], label=\"validation\")\n",
        "plt.xlabel('Epochs')\n",
        "plt.ylabel('Loss')\n",
        "plt.legend()\n",
        "plt.show()"
      ],
      "execution_count": null,
      "outputs": []
    },
    {
      "cell_type": "markdown",
      "metadata": {
        "id": "hWCItcHYv4dB",
        "colab_type": "text"
      },
      "source": [
        "### **モデルの保存**"
      ]
    },
    {
      "cell_type": "code",
      "metadata": {
        "id": "olxtm1CrcNS1",
        "colab_type": "code",
        "colab": {}
      },
      "source": [
        "model.save('/content/drive/My Drive/Colab Notebooks/FruitDiscrimination/model/BaseModel_NN.h5') \n"
      ],
      "execution_count": null,
      "outputs": []
    }
  ]
}