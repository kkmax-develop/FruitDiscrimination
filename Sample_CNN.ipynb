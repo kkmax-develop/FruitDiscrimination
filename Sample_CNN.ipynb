{
  "nbformat": 4,
  "nbformat_minor": 0,
  "metadata": {
    "colab": {
      "name": "Sample_CNN.ipynb",
      "provenance": [],
      "collapsed_sections": [],
      "mount_file_id": "1I881LvD4O8wdWJk6zaXq_flAa1Sv7q-w",
      "authorship_tag": "ABX9TyNVS+q8Sjxdb0ZSHZRjb/O4",
      "include_colab_link": true
    },
    "kernelspec": {
      "name": "python3",
      "display_name": "Python 3"
    },
    "accelerator": "GPU"
  },
  "cells": [
    {
      "cell_type": "markdown",
      "metadata": {
        "id": "view-in-github",
        "colab_type": "text"
      },
      "source": [
        "<a href=\"https://colab.research.google.com/github/kkmax-develop/FruitDiscrimination/blob/master/Sample_CNN.ipynb\" target=\"_parent\"><img src=\"https://colab.research.google.com/assets/colab-badge.svg\" alt=\"Open In Colab\"/></a>"
      ]
    },
    {
      "cell_type": "code",
      "metadata": {
        "id": "NF1R-SO_zDwq",
        "colab_type": "code",
        "colab": {
          "base_uri": "https://localhost:8080/",
          "height": 35
        },
        "outputId": "3b319151-1d91-4911-f099-a14bbfe35ccc"
      },
      "source": [
        "# GPUが割り当てられているかチェック\n",
        "import tensorflow as tf\n",
        "tf.test.gpu_device_name()"
      ],
      "execution_count": 1,
      "outputs": [
        {
          "output_type": "execute_result",
          "data": {
            "application/vnd.google.colaboratory.intrinsic+json": {
              "type": "string"
            },
            "text/plain": [
              "'/device:GPU:0'"
            ]
          },
          "metadata": {
            "tags": []
          },
          "execution_count": 1
        }
      ]
    },
    {
      "cell_type": "markdown",
      "metadata": {
        "id": "oI7f2HRmJt1S",
        "colab_type": "text"
      },
      "source": [
        "### **ライブラリのインポート**"
      ]
    },
    {
      "cell_type": "code",
      "metadata": {
        "id": "OXiBlObPzeIQ",
        "colab_type": "code",
        "colab": {}
      },
      "source": [
        "import os\n",
        "import numpy as np\n",
        "import matplotlib.pyplot as plt\n",
        "\n",
        "#画像認識関連ライブラリ\n",
        "from tensorflow import keras\n",
        "from tensorflow.python.keras.preprocessing import image\n",
        "from tensorflow.python.keras.preprocessing.image import ImageDataGenerator\n",
        "from tensorflow.keras.layers import Dense, Conv2D, MaxPooling2D, Flatten, Input, Activation, add, Add, Dropout, BatchNormalization\n",
        "from tensorflow.keras.callbacks import EarlyStopping\n",
        "from tensorflow.keras.models import Sequential, Model"
      ],
      "execution_count": 2,
      "outputs": []
    },
    {
      "cell_type": "markdown",
      "metadata": {
        "id": "p8Rcpj4e-3H1",
        "colab_type": "text"
      },
      "source": [
        "### **データの前処理**"
      ]
    },
    {
      "cell_type": "markdown",
      "metadata": {
        "id": "5iDnR2oH-8PL",
        "colab_type": "text"
      },
      "source": [
        "ImageDataGeneratorクラスのインスタンスを作成。各引数の意味は公式ドキュメントを参照。"
      ]
    },
    {
      "cell_type": "markdown",
      "metadata": {
        "id": "e22k-mP7_BB8",
        "colab_type": "text"
      },
      "source": [
        "https://keras.io/ja/preprocessing/image/"
      ]
    },
    {
      "cell_type": "code",
      "metadata": {
        "id": "0SjBz1JyMNZW",
        "colab_type": "code",
        "colab": {}
      },
      "source": [
        "#データ拡張。trainデータとvalidationデータは9：1で設定。\n",
        "datagen = image.ImageDataGenerator(\n",
        "            featurewise_center = False,\n",
        "            samplewise_center = False,\n",
        "            featurewise_std_normalization = False,\n",
        "            samplewise_std_normalization = False,\n",
        "            zca_whitening = False,\n",
        "            rotation_range = 30,\n",
        "            width_shift_range = 0.3,\n",
        "            height_shift_range = 0.3,\n",
        "            horizontal_flip = True,\n",
        "            vertical_flip = False,\n",
        "            validation_split = 0.1\n",
        "        )"
      ],
      "execution_count": 3,
      "outputs": []
    },
    {
      "cell_type": "code",
      "metadata": {
        "id": "RTqBGsNGzMbd",
        "colab_type": "code",
        "colab": {
          "base_uri": "https://localhost:8080/",
          "height": 34
        },
        "outputId": "b279b006-6344-4936-f28e-1de806415eeb"
      },
      "source": [
        "# ImageDataGeneratorを使用してデータの読み込みと拡張\n",
        "batch_size = 128\n",
        "IMG_WIDTH = 100\n",
        "IMG_HEIGHT = 100\n",
        "CHANNELS = 3\n",
        "train_dir = \"/content/drive/My Drive/Colab Notebooks/FruitDiscrimination/data/training\"\n",
        "TARGET = [\"Apple Golden 1\",\"Avocado\",\"Banana\",\"Blueberry\",\"Cherry 1\",\"Grape Pink\",\"Kaki\",\n",
        "         \"Lemon\",\"Mango\",\"Onion Red\",\"Peach\",\"Strawberry\",\"Tomato 1\"]\n",
        "\n",
        "train_generator = datagen.flow_from_directory(\n",
        "            train_dir,\n",
        "            target_size=(IMG_WIDTH,IMG_HEIGHT),\n",
        "            batch_size=batch_size,\n",
        "            class_mode='categorical',\n",
        "            shuffle=True,\n",
        "            classes=TARGET,\n",
        "            subset = \"training\" \n",
        "        )"
      ],
      "execution_count": 4,
      "outputs": [
        {
          "output_type": "stream",
          "text": [
            "Found 5841 images belonging to 13 classes.\n"
          ],
          "name": "stdout"
        }
      ]
    },
    {
      "cell_type": "code",
      "metadata": {
        "id": "cUuuk9liRdrK",
        "colab_type": "code",
        "colab": {
          "base_uri": "https://localhost:8080/",
          "height": 34
        },
        "outputId": "6e5943f4-fc19-4489-8498-cbd6d3585cd6"
      },
      "source": [
        "# validationデータの読み込み\n",
        "validation_generator = datagen.flow_from_directory(\n",
        "            train_dir,\n",
        "            target_size=(IMG_WIDTH,IMG_HEIGHT),\n",
        "            batch_size=batch_size,\n",
        "            class_mode='categorical',\n",
        "            classes=TARGET,\n",
        "            subset = \"validation\" \n",
        "        )"
      ],
      "execution_count": 5,
      "outputs": [
        {
          "output_type": "stream",
          "text": [
            "Found 646 images belonging to 13 classes.\n"
          ],
          "name": "stdout"
        }
      ]
    },
    {
      "cell_type": "markdown",
      "metadata": {
        "id": "68xiwlxZ_kO1",
        "colab_type": "text"
      },
      "source": [
        "### **モデル作成**"
      ]
    },
    {
      "cell_type": "code",
      "metadata": {
        "id": "8-xLv6VHzbqc",
        "colab_type": "code",
        "colab": {
          "base_uri": "https://localhost:8080/",
          "height": 527
        },
        "outputId": "f6563f37-31d7-438a-ef76-7545222d53c4"
      },
      "source": [
        "# CNNのモデル作成\n",
        "model = Sequential()\n",
        "\n",
        "model.add(Conv2D(32,(3,3),activation=\"relu\",input_shape=(IMG_WIDTH,IMG_HEIGHT,CHANNELS)))\n",
        "model.add(MaxPooling2D((2,2)))\n",
        " \n",
        "model.add(Conv2D(64,(3,3),activation=\"relu\"))\n",
        "model.add(MaxPooling2D((2,2)))\n",
        " \n",
        "model.add(Conv2D(128,(3,3),activation=\"relu\"))\n",
        "model.add(MaxPooling2D((2,2)))\n",
        " \n",
        "model.add(Conv2D(128,(3,3),activation=\"relu\"))\n",
        "model.add(MaxPooling2D((2,2),padding=\"SAME\"))\n",
        " \n",
        "model.add(Flatten())\n",
        " \n",
        "model.add(Dense(512,activation=\"relu\"))\n",
        "model.add(Dense(13,activation=\"sigmoid\"))\n",
        " \n",
        "model.summary()"
      ],
      "execution_count": 19,
      "outputs": [
        {
          "output_type": "stream",
          "text": [
            "Model: \"sequential_4\"\n",
            "_________________________________________________________________\n",
            "Layer (type)                 Output Shape              Param #   \n",
            "=================================================================\n",
            "conv2d_16 (Conv2D)           (None, 98, 98, 32)        896       \n",
            "_________________________________________________________________\n",
            "max_pooling2d_16 (MaxPooling (None, 49, 49, 32)        0         \n",
            "_________________________________________________________________\n",
            "conv2d_17 (Conv2D)           (None, 47, 47, 64)        18496     \n",
            "_________________________________________________________________\n",
            "max_pooling2d_17 (MaxPooling (None, 23, 23, 64)        0         \n",
            "_________________________________________________________________\n",
            "conv2d_18 (Conv2D)           (None, 21, 21, 128)       73856     \n",
            "_________________________________________________________________\n",
            "max_pooling2d_18 (MaxPooling (None, 10, 10, 128)       0         \n",
            "_________________________________________________________________\n",
            "conv2d_19 (Conv2D)           (None, 8, 8, 128)         147584    \n",
            "_________________________________________________________________\n",
            "max_pooling2d_19 (MaxPooling (None, 4, 4, 128)         0         \n",
            "_________________________________________________________________\n",
            "flatten_4 (Flatten)          (None, 2048)              0         \n",
            "_________________________________________________________________\n",
            "dense_8 (Dense)              (None, 512)               1049088   \n",
            "_________________________________________________________________\n",
            "dense_9 (Dense)              (None, 13)                6669      \n",
            "=================================================================\n",
            "Total params: 1,296,589\n",
            "Trainable params: 1,296,589\n",
            "Non-trainable params: 0\n",
            "_________________________________________________________________\n"
          ],
          "name": "stdout"
        }
      ]
    },
    {
      "cell_type": "code",
      "metadata": {
        "id": "BIN96_cs_hnB",
        "colab_type": "code",
        "colab": {
          "base_uri": "https://localhost:8080/",
          "height": 1000
        },
        "outputId": "c46326d7-b6cf-4c57-8246-f259ba4a37ba"
      },
      "source": [
        "# 作成したモデルの可視化\n",
        "from IPython.display import SVG\n",
        "from tensorflow.python.keras.utils.vis_utils import model_to_dot\n",
        "\n",
        "SVG(model_to_dot(model, show_shapes=True, dpi=None).create(prog='dot', format='svg'))"
      ],
      "execution_count": 7,
      "outputs": [
        {
          "output_type": "execute_result",
          "data": {
            "text/plain": [
              "<IPython.core.display.SVG object>"
            ],
            "image/svg+xml": "<svg height=\"968pt\" viewBox=\"0.00 0.00 444.00 968.00\" width=\"444pt\" xmlns=\"http://www.w3.org/2000/svg\" xmlns:xlink=\"http://www.w3.org/1999/xlink\">\n<g class=\"graph\" id=\"graph0\" transform=\"scale(1 1) rotate(0) translate(4 964)\">\n<title>G</title>\n<polygon fill=\"#ffffff\" points=\"-4,4 -4,-964 440,-964 440,4 -4,4\" stroke=\"transparent\"/>\n<!-- dpi -->\n<g class=\"node\" id=\"node1\">\n<title>dpi</title>\n<ellipse cx=\"27\" cy=\"-936.5\" fill=\"none\" rx=\"27\" ry=\"18\" stroke=\"#000000\"/>\n<text fill=\"#000000\" font-family=\"Times,serif\" font-size=\"14.00\" text-anchor=\"middle\" x=\"27\" y=\"-932.8\">dpi</text>\n</g>\n<!-- 140354980260272 -->\n<g class=\"node\" id=\"node2\">\n<title>140354980260272</title>\n<polygon fill=\"none\" points=\"71.5,-913.5 71.5,-959.5 414.5,-959.5 414.5,-913.5 71.5,-913.5\" stroke=\"#000000\"/>\n<text fill=\"#000000\" font-family=\"Times,serif\" font-size=\"14.00\" text-anchor=\"middle\" x=\"156\" y=\"-932.8\">conv2d_input: InputLayer</text>\n<polyline fill=\"none\" points=\"240.5,-913.5 240.5,-959.5 \" stroke=\"#000000\"/>\n<text fill=\"#000000\" font-family=\"Times,serif\" font-size=\"14.00\" text-anchor=\"middle\" x=\"269.5\" y=\"-944.3\">input:</text>\n<polyline fill=\"none\" points=\"240.5,-936.5 298.5,-936.5 \" stroke=\"#000000\"/>\n<text fill=\"#000000\" font-family=\"Times,serif\" font-size=\"14.00\" text-anchor=\"middle\" x=\"269.5\" y=\"-921.3\">output:</text>\n<polyline fill=\"none\" points=\"298.5,-913.5 298.5,-959.5 \" stroke=\"#000000\"/>\n<text fill=\"#000000\" font-family=\"Times,serif\" font-size=\"14.00\" text-anchor=\"middle\" x=\"356.5\" y=\"-944.3\">[(?, 100, 100, 3)]</text>\n<polyline fill=\"none\" points=\"298.5,-936.5 414.5,-936.5 \" stroke=\"#000000\"/>\n<text fill=\"#000000\" font-family=\"Times,serif\" font-size=\"14.00\" text-anchor=\"middle\" x=\"356.5\" y=\"-921.3\">[(?, 100, 100, 3)]</text>\n</g>\n<!-- 140355869053560 -->\n<g class=\"node\" id=\"node3\">\n<title>140355869053560</title>\n<polygon fill=\"none\" points=\"101.5,-830.5 101.5,-876.5 384.5,-876.5 384.5,-830.5 101.5,-830.5\" stroke=\"#000000\"/>\n<text fill=\"#000000\" font-family=\"Times,serif\" font-size=\"14.00\" text-anchor=\"middle\" x=\"160.5\" y=\"-849.8\">conv2d: Conv2D</text>\n<polyline fill=\"none\" points=\"219.5,-830.5 219.5,-876.5 \" stroke=\"#000000\"/>\n<text fill=\"#000000\" font-family=\"Times,serif\" font-size=\"14.00\" text-anchor=\"middle\" x=\"248.5\" y=\"-861.3\">input:</text>\n<polyline fill=\"none\" points=\"219.5,-853.5 277.5,-853.5 \" stroke=\"#000000\"/>\n<text fill=\"#000000\" font-family=\"Times,serif\" font-size=\"14.00\" text-anchor=\"middle\" x=\"248.5\" y=\"-838.3\">output:</text>\n<polyline fill=\"none\" points=\"277.5,-830.5 277.5,-876.5 \" stroke=\"#000000\"/>\n<text fill=\"#000000\" font-family=\"Times,serif\" font-size=\"14.00\" text-anchor=\"middle\" x=\"331\" y=\"-861.3\">(?, 100, 100, 3)</text>\n<polyline fill=\"none\" points=\"277.5,-853.5 384.5,-853.5 \" stroke=\"#000000\"/>\n<text fill=\"#000000\" font-family=\"Times,serif\" font-size=\"14.00\" text-anchor=\"middle\" x=\"331\" y=\"-838.3\">(?, 98, 98, 32)</text>\n</g>\n<!-- 140354980260272&#45;&gt;140355869053560 -->\n<g class=\"edge\" id=\"edge1\">\n<title>140354980260272-&gt;140355869053560</title>\n<path d=\"M243,-913.3799C243,-905.1745 243,-895.7679 243,-886.8786\" fill=\"none\" stroke=\"#000000\"/>\n<polygon fill=\"#000000\" points=\"246.5001,-886.784 243,-876.784 239.5001,-886.784 246.5001,-886.784\" stroke=\"#000000\"/>\n</g>\n<!-- 140354980261448 -->\n<g class=\"node\" id=\"node4\">\n<title>140354980261448</title>\n<polygon fill=\"none\" points=\"61.5,-747.5 61.5,-793.5 424.5,-793.5 424.5,-747.5 61.5,-747.5\" stroke=\"#000000\"/>\n<text fill=\"#000000\" font-family=\"Times,serif\" font-size=\"14.00\" text-anchor=\"middle\" x=\"164.5\" y=\"-766.8\">max_pooling2d: MaxPooling2D</text>\n<polyline fill=\"none\" points=\"267.5,-747.5 267.5,-793.5 \" stroke=\"#000000\"/>\n<text fill=\"#000000\" font-family=\"Times,serif\" font-size=\"14.00\" text-anchor=\"middle\" x=\"296.5\" y=\"-778.3\">input:</text>\n<polyline fill=\"none\" points=\"267.5,-770.5 325.5,-770.5 \" stroke=\"#000000\"/>\n<text fill=\"#000000\" font-family=\"Times,serif\" font-size=\"14.00\" text-anchor=\"middle\" x=\"296.5\" y=\"-755.3\">output:</text>\n<polyline fill=\"none\" points=\"325.5,-747.5 325.5,-793.5 \" stroke=\"#000000\"/>\n<text fill=\"#000000\" font-family=\"Times,serif\" font-size=\"14.00\" text-anchor=\"middle\" x=\"375\" y=\"-778.3\">(?, 98, 98, 32)</text>\n<polyline fill=\"none\" points=\"325.5,-770.5 424.5,-770.5 \" stroke=\"#000000\"/>\n<text fill=\"#000000\" font-family=\"Times,serif\" font-size=\"14.00\" text-anchor=\"middle\" x=\"375\" y=\"-755.3\">(?, 49, 49, 32)</text>\n</g>\n<!-- 140355869053560&#45;&gt;140354980261448 -->\n<g class=\"edge\" id=\"edge2\">\n<title>140355869053560-&gt;140354980261448</title>\n<path d=\"M243,-830.3799C243,-822.1745 243,-812.7679 243,-803.8786\" fill=\"none\" stroke=\"#000000\"/>\n<polygon fill=\"#000000\" points=\"246.5001,-803.784 243,-793.784 239.5001,-803.784 246.5001,-803.784\" stroke=\"#000000\"/>\n</g>\n<!-- 140354980259320 -->\n<g class=\"node\" id=\"node5\">\n<title>140354980259320</title>\n<polygon fill=\"none\" points=\"98,-664.5 98,-710.5 388,-710.5 388,-664.5 98,-664.5\" stroke=\"#000000\"/>\n<text fill=\"#000000\" font-family=\"Times,serif\" font-size=\"14.00\" text-anchor=\"middle\" x=\"164.5\" y=\"-683.8\">conv2d_1: Conv2D</text>\n<polyline fill=\"none\" points=\"231,-664.5 231,-710.5 \" stroke=\"#000000\"/>\n<text fill=\"#000000\" font-family=\"Times,serif\" font-size=\"14.00\" text-anchor=\"middle\" x=\"260\" y=\"-695.3\">input:</text>\n<polyline fill=\"none\" points=\"231,-687.5 289,-687.5 \" stroke=\"#000000\"/>\n<text fill=\"#000000\" font-family=\"Times,serif\" font-size=\"14.00\" text-anchor=\"middle\" x=\"260\" y=\"-672.3\">output:</text>\n<polyline fill=\"none\" points=\"289,-664.5 289,-710.5 \" stroke=\"#000000\"/>\n<text fill=\"#000000\" font-family=\"Times,serif\" font-size=\"14.00\" text-anchor=\"middle\" x=\"338.5\" y=\"-695.3\">(?, 49, 49, 32)</text>\n<polyline fill=\"none\" points=\"289,-687.5 388,-687.5 \" stroke=\"#000000\"/>\n<text fill=\"#000000\" font-family=\"Times,serif\" font-size=\"14.00\" text-anchor=\"middle\" x=\"338.5\" y=\"-672.3\">(?, 47, 47, 64)</text>\n</g>\n<!-- 140354980261448&#45;&gt;140354980259320 -->\n<g class=\"edge\" id=\"edge3\">\n<title>140354980261448-&gt;140354980259320</title>\n<path d=\"M243,-747.3799C243,-739.1745 243,-729.7679 243,-720.8786\" fill=\"none\" stroke=\"#000000\"/>\n<polygon fill=\"#000000\" points=\"246.5001,-720.784 243,-710.784 239.5001,-720.784 246.5001,-720.784\" stroke=\"#000000\"/>\n</g>\n<!-- 140354979974112 -->\n<g class=\"node\" id=\"node6\">\n<title>140354979974112</title>\n<polygon fill=\"none\" points=\"54,-581.5 54,-627.5 432,-627.5 432,-581.5 54,-581.5\" stroke=\"#000000\"/>\n<text fill=\"#000000\" font-family=\"Times,serif\" font-size=\"14.00\" text-anchor=\"middle\" x=\"164.5\" y=\"-600.8\">max_pooling2d_1: MaxPooling2D</text>\n<polyline fill=\"none\" points=\"275,-581.5 275,-627.5 \" stroke=\"#000000\"/>\n<text fill=\"#000000\" font-family=\"Times,serif\" font-size=\"14.00\" text-anchor=\"middle\" x=\"304\" y=\"-612.3\">input:</text>\n<polyline fill=\"none\" points=\"275,-604.5 333,-604.5 \" stroke=\"#000000\"/>\n<text fill=\"#000000\" font-family=\"Times,serif\" font-size=\"14.00\" text-anchor=\"middle\" x=\"304\" y=\"-589.3\">output:</text>\n<polyline fill=\"none\" points=\"333,-581.5 333,-627.5 \" stroke=\"#000000\"/>\n<text fill=\"#000000\" font-family=\"Times,serif\" font-size=\"14.00\" text-anchor=\"middle\" x=\"382.5\" y=\"-612.3\">(?, 47, 47, 64)</text>\n<polyline fill=\"none\" points=\"333,-604.5 432,-604.5 \" stroke=\"#000000\"/>\n<text fill=\"#000000\" font-family=\"Times,serif\" font-size=\"14.00\" text-anchor=\"middle\" x=\"382.5\" y=\"-589.3\">(?, 23, 23, 64)</text>\n</g>\n<!-- 140354980259320&#45;&gt;140354979974112 -->\n<g class=\"edge\" id=\"edge4\">\n<title>140354980259320-&gt;140354979974112</title>\n<path d=\"M243,-664.3799C243,-656.1745 243,-646.7679 243,-637.8786\" fill=\"none\" stroke=\"#000000\"/>\n<polygon fill=\"#000000\" points=\"246.5001,-637.784 243,-627.784 239.5001,-637.784 246.5001,-637.784\" stroke=\"#000000\"/>\n</g>\n<!-- 140354979974840 -->\n<g class=\"node\" id=\"node7\">\n<title>140354979974840</title>\n<polygon fill=\"none\" points=\"94,-498.5 94,-544.5 392,-544.5 392,-498.5 94,-498.5\" stroke=\"#000000\"/>\n<text fill=\"#000000\" font-family=\"Times,serif\" font-size=\"14.00\" text-anchor=\"middle\" x=\"160.5\" y=\"-517.8\">conv2d_2: Conv2D</text>\n<polyline fill=\"none\" points=\"227,-498.5 227,-544.5 \" stroke=\"#000000\"/>\n<text fill=\"#000000\" font-family=\"Times,serif\" font-size=\"14.00\" text-anchor=\"middle\" x=\"256\" y=\"-529.3\">input:</text>\n<polyline fill=\"none\" points=\"227,-521.5 285,-521.5 \" stroke=\"#000000\"/>\n<text fill=\"#000000\" font-family=\"Times,serif\" font-size=\"14.00\" text-anchor=\"middle\" x=\"256\" y=\"-506.3\">output:</text>\n<polyline fill=\"none\" points=\"285,-498.5 285,-544.5 \" stroke=\"#000000\"/>\n<text fill=\"#000000\" font-family=\"Times,serif\" font-size=\"14.00\" text-anchor=\"middle\" x=\"338.5\" y=\"-529.3\">(?, 23, 23, 64)</text>\n<polyline fill=\"none\" points=\"285,-521.5 392,-521.5 \" stroke=\"#000000\"/>\n<text fill=\"#000000\" font-family=\"Times,serif\" font-size=\"14.00\" text-anchor=\"middle\" x=\"338.5\" y=\"-506.3\">(?, 21, 21, 128)</text>\n</g>\n<!-- 140354979974112&#45;&gt;140354979974840 -->\n<g class=\"edge\" id=\"edge5\">\n<title>140354979974112-&gt;140354979974840</title>\n<path d=\"M243,-581.3799C243,-573.1745 243,-563.7679 243,-554.8786\" fill=\"none\" stroke=\"#000000\"/>\n<polygon fill=\"#000000\" points=\"246.5001,-554.784 243,-544.784 239.5001,-554.784 246.5001,-554.784\" stroke=\"#000000\"/>\n</g>\n<!-- 140354980150800 -->\n<g class=\"node\" id=\"node8\">\n<title>140354980150800</title>\n<polygon fill=\"none\" points=\"50,-415.5 50,-461.5 436,-461.5 436,-415.5 50,-415.5\" stroke=\"#000000\"/>\n<text fill=\"#000000\" font-family=\"Times,serif\" font-size=\"14.00\" text-anchor=\"middle\" x=\"160.5\" y=\"-434.8\">max_pooling2d_2: MaxPooling2D</text>\n<polyline fill=\"none\" points=\"271,-415.5 271,-461.5 \" stroke=\"#000000\"/>\n<text fill=\"#000000\" font-family=\"Times,serif\" font-size=\"14.00\" text-anchor=\"middle\" x=\"300\" y=\"-446.3\">input:</text>\n<polyline fill=\"none\" points=\"271,-438.5 329,-438.5 \" stroke=\"#000000\"/>\n<text fill=\"#000000\" font-family=\"Times,serif\" font-size=\"14.00\" text-anchor=\"middle\" x=\"300\" y=\"-423.3\">output:</text>\n<polyline fill=\"none\" points=\"329,-415.5 329,-461.5 \" stroke=\"#000000\"/>\n<text fill=\"#000000\" font-family=\"Times,serif\" font-size=\"14.00\" text-anchor=\"middle\" x=\"382.5\" y=\"-446.3\">(?, 21, 21, 128)</text>\n<polyline fill=\"none\" points=\"329,-438.5 436,-438.5 \" stroke=\"#000000\"/>\n<text fill=\"#000000\" font-family=\"Times,serif\" font-size=\"14.00\" text-anchor=\"middle\" x=\"382.5\" y=\"-423.3\">(?, 10, 10, 128)</text>\n</g>\n<!-- 140354979974840&#45;&gt;140354980150800 -->\n<g class=\"edge\" id=\"edge6\">\n<title>140354979974840-&gt;140354980150800</title>\n<path d=\"M243,-498.3799C243,-490.1745 243,-480.7679 243,-471.8786\" fill=\"none\" stroke=\"#000000\"/>\n<polygon fill=\"#000000\" points=\"246.5001,-471.784 243,-461.784 239.5001,-471.784 246.5001,-471.784\" stroke=\"#000000\"/>\n</g>\n<!-- 140354980150968 -->\n<g class=\"node\" id=\"node9\">\n<title>140354980150968</title>\n<polygon fill=\"none\" points=\"94,-332.5 94,-378.5 392,-378.5 392,-332.5 94,-332.5\" stroke=\"#000000\"/>\n<text fill=\"#000000\" font-family=\"Times,serif\" font-size=\"14.00\" text-anchor=\"middle\" x=\"160.5\" y=\"-351.8\">conv2d_3: Conv2D</text>\n<polyline fill=\"none\" points=\"227,-332.5 227,-378.5 \" stroke=\"#000000\"/>\n<text fill=\"#000000\" font-family=\"Times,serif\" font-size=\"14.00\" text-anchor=\"middle\" x=\"256\" y=\"-363.3\">input:</text>\n<polyline fill=\"none\" points=\"227,-355.5 285,-355.5 \" stroke=\"#000000\"/>\n<text fill=\"#000000\" font-family=\"Times,serif\" font-size=\"14.00\" text-anchor=\"middle\" x=\"256\" y=\"-340.3\">output:</text>\n<polyline fill=\"none\" points=\"285,-332.5 285,-378.5 \" stroke=\"#000000\"/>\n<text fill=\"#000000\" font-family=\"Times,serif\" font-size=\"14.00\" text-anchor=\"middle\" x=\"338.5\" y=\"-363.3\">(?, 10, 10, 128)</text>\n<polyline fill=\"none\" points=\"285,-355.5 392,-355.5 \" stroke=\"#000000\"/>\n<text fill=\"#000000\" font-family=\"Times,serif\" font-size=\"14.00\" text-anchor=\"middle\" x=\"338.5\" y=\"-340.3\">(?, 8, 8, 128)</text>\n</g>\n<!-- 140354980150800&#45;&gt;140354980150968 -->\n<g class=\"edge\" id=\"edge7\">\n<title>140354980150800-&gt;140354980150968</title>\n<path d=\"M243,-415.3799C243,-407.1745 243,-397.7679 243,-388.8786\" fill=\"none\" stroke=\"#000000\"/>\n<polygon fill=\"#000000\" points=\"246.5001,-388.784 243,-378.784 239.5001,-388.784 246.5001,-388.784\" stroke=\"#000000\"/>\n</g>\n<!-- 140354979663096 -->\n<g class=\"node\" id=\"node10\">\n<title>140354979663096</title>\n<polygon fill=\"none\" points=\"57.5,-249.5 57.5,-295.5 428.5,-295.5 428.5,-249.5 57.5,-249.5\" stroke=\"#000000\"/>\n<text fill=\"#000000\" font-family=\"Times,serif\" font-size=\"14.00\" text-anchor=\"middle\" x=\"168\" y=\"-268.8\">max_pooling2d_3: MaxPooling2D</text>\n<polyline fill=\"none\" points=\"278.5,-249.5 278.5,-295.5 \" stroke=\"#000000\"/>\n<text fill=\"#000000\" font-family=\"Times,serif\" font-size=\"14.00\" text-anchor=\"middle\" x=\"307.5\" y=\"-280.3\">input:</text>\n<polyline fill=\"none\" points=\"278.5,-272.5 336.5,-272.5 \" stroke=\"#000000\"/>\n<text fill=\"#000000\" font-family=\"Times,serif\" font-size=\"14.00\" text-anchor=\"middle\" x=\"307.5\" y=\"-257.3\">output:</text>\n<polyline fill=\"none\" points=\"336.5,-249.5 336.5,-295.5 \" stroke=\"#000000\"/>\n<text fill=\"#000000\" font-family=\"Times,serif\" font-size=\"14.00\" text-anchor=\"middle\" x=\"382.5\" y=\"-280.3\">(?, 8, 8, 128)</text>\n<polyline fill=\"none\" points=\"336.5,-272.5 428.5,-272.5 \" stroke=\"#000000\"/>\n<text fill=\"#000000\" font-family=\"Times,serif\" font-size=\"14.00\" text-anchor=\"middle\" x=\"382.5\" y=\"-257.3\">(?, 4, 4, 128)</text>\n</g>\n<!-- 140354980150968&#45;&gt;140354979663096 -->\n<g class=\"edge\" id=\"edge8\">\n<title>140354980150968-&gt;140354979663096</title>\n<path d=\"M243,-332.3799C243,-324.1745 243,-314.7679 243,-305.8786\" fill=\"none\" stroke=\"#000000\"/>\n<polygon fill=\"#000000\" points=\"246.5001,-305.784 243,-295.784 239.5001,-305.784 246.5001,-305.784\" stroke=\"#000000\"/>\n</g>\n<!-- 140354979662256 -->\n<g class=\"node\" id=\"node11\">\n<title>140354979662256</title>\n<polygon fill=\"none\" points=\"119,-166.5 119,-212.5 367,-212.5 367,-166.5 119,-166.5\" stroke=\"#000000\"/>\n<text fill=\"#000000\" font-family=\"Times,serif\" font-size=\"14.00\" text-anchor=\"middle\" x=\"168\" y=\"-185.8\">flatten: Flatten</text>\n<polyline fill=\"none\" points=\"217,-166.5 217,-212.5 \" stroke=\"#000000\"/>\n<text fill=\"#000000\" font-family=\"Times,serif\" font-size=\"14.00\" text-anchor=\"middle\" x=\"246\" y=\"-197.3\">input:</text>\n<polyline fill=\"none\" points=\"217,-189.5 275,-189.5 \" stroke=\"#000000\"/>\n<text fill=\"#000000\" font-family=\"Times,serif\" font-size=\"14.00\" text-anchor=\"middle\" x=\"246\" y=\"-174.3\">output:</text>\n<polyline fill=\"none\" points=\"275,-166.5 275,-212.5 \" stroke=\"#000000\"/>\n<text fill=\"#000000\" font-family=\"Times,serif\" font-size=\"14.00\" text-anchor=\"middle\" x=\"321\" y=\"-197.3\">(?, 4, 4, 128)</text>\n<polyline fill=\"none\" points=\"275,-189.5 367,-189.5 \" stroke=\"#000000\"/>\n<text fill=\"#000000\" font-family=\"Times,serif\" font-size=\"14.00\" text-anchor=\"middle\" x=\"321\" y=\"-174.3\">(?, 2048)</text>\n</g>\n<!-- 140354979663096&#45;&gt;140354979662256 -->\n<g class=\"edge\" id=\"edge9\">\n<title>140354979663096-&gt;140354979662256</title>\n<path d=\"M243,-249.3799C243,-241.1745 243,-231.7679 243,-222.8786\" fill=\"none\" stroke=\"#000000\"/>\n<polygon fill=\"#000000\" points=\"246.5001,-222.784 243,-212.784 239.5001,-222.784 246.5001,-222.784\" stroke=\"#000000\"/>\n</g>\n<!-- 140354979662928 -->\n<g class=\"node\" id=\"node12\">\n<title>140354979662928</title>\n<polygon fill=\"none\" points=\"133.5,-83.5 133.5,-129.5 352.5,-129.5 352.5,-83.5 133.5,-83.5\" stroke=\"#000000\"/>\n<text fill=\"#000000\" font-family=\"Times,serif\" font-size=\"14.00\" text-anchor=\"middle\" x=\"179.5\" y=\"-102.8\">dense: Dense</text>\n<polyline fill=\"none\" points=\"225.5,-83.5 225.5,-129.5 \" stroke=\"#000000\"/>\n<text fill=\"#000000\" font-family=\"Times,serif\" font-size=\"14.00\" text-anchor=\"middle\" x=\"254.5\" y=\"-114.3\">input:</text>\n<polyline fill=\"none\" points=\"225.5,-106.5 283.5,-106.5 \" stroke=\"#000000\"/>\n<text fill=\"#000000\" font-family=\"Times,serif\" font-size=\"14.00\" text-anchor=\"middle\" x=\"254.5\" y=\"-91.3\">output:</text>\n<polyline fill=\"none\" points=\"283.5,-83.5 283.5,-129.5 \" stroke=\"#000000\"/>\n<text fill=\"#000000\" font-family=\"Times,serif\" font-size=\"14.00\" text-anchor=\"middle\" x=\"318\" y=\"-114.3\">(?, 2048)</text>\n<polyline fill=\"none\" points=\"283.5,-106.5 352.5,-106.5 \" stroke=\"#000000\"/>\n<text fill=\"#000000\" font-family=\"Times,serif\" font-size=\"14.00\" text-anchor=\"middle\" x=\"318\" y=\"-91.3\">(?, 512)</text>\n</g>\n<!-- 140354979662256&#45;&gt;140354979662928 -->\n<g class=\"edge\" id=\"edge10\">\n<title>140354979662256-&gt;140354979662928</title>\n<path d=\"M243,-166.3799C243,-158.1745 243,-148.7679 243,-139.8786\" fill=\"none\" stroke=\"#000000\"/>\n<polygon fill=\"#000000\" points=\"246.5001,-139.784 243,-129.784 239.5001,-139.784 246.5001,-139.784\" stroke=\"#000000\"/>\n</g>\n<!-- 140354979694632 -->\n<g class=\"node\" id=\"node13\">\n<title>140354979694632</title>\n<polygon fill=\"none\" points=\"129.5,-.5 129.5,-46.5 356.5,-46.5 356.5,-.5 129.5,-.5\" stroke=\"#000000\"/>\n<text fill=\"#000000\" font-family=\"Times,serif\" font-size=\"14.00\" text-anchor=\"middle\" x=\"183\" y=\"-19.8\">dense_1: Dense</text>\n<polyline fill=\"none\" points=\"236.5,-.5 236.5,-46.5 \" stroke=\"#000000\"/>\n<text fill=\"#000000\" font-family=\"Times,serif\" font-size=\"14.00\" text-anchor=\"middle\" x=\"265.5\" y=\"-31.3\">input:</text>\n<polyline fill=\"none\" points=\"236.5,-23.5 294.5,-23.5 \" stroke=\"#000000\"/>\n<text fill=\"#000000\" font-family=\"Times,serif\" font-size=\"14.00\" text-anchor=\"middle\" x=\"265.5\" y=\"-8.3\">output:</text>\n<polyline fill=\"none\" points=\"294.5,-.5 294.5,-46.5 \" stroke=\"#000000\"/>\n<text fill=\"#000000\" font-family=\"Times,serif\" font-size=\"14.00\" text-anchor=\"middle\" x=\"325.5\" y=\"-31.3\">(?, 512)</text>\n<polyline fill=\"none\" points=\"294.5,-23.5 356.5,-23.5 \" stroke=\"#000000\"/>\n<text fill=\"#000000\" font-family=\"Times,serif\" font-size=\"14.00\" text-anchor=\"middle\" x=\"325.5\" y=\"-8.3\">(?, 13)</text>\n</g>\n<!-- 140354979662928&#45;&gt;140354979694632 -->\n<g class=\"edge\" id=\"edge11\">\n<title>140354979662928-&gt;140354979694632</title>\n<path d=\"M243,-83.3799C243,-75.1745 243,-65.7679 243,-56.8786\" fill=\"none\" stroke=\"#000000\"/>\n<polygon fill=\"#000000\" points=\"246.5001,-56.784 243,-46.784 239.5001,-56.784 246.5001,-56.784\" stroke=\"#000000\"/>\n</g>\n</g>\n</svg>"
          },
          "metadata": {
            "tags": []
          },
          "execution_count": 7
        }
      ]
    },
    {
      "cell_type": "code",
      "metadata": {
        "id": "p1gXVJD5HTQ0",
        "colab_type": "code",
        "colab": {
          "base_uri": "https://localhost:8080/",
          "height": 1000
        },
        "outputId": "1fba770d-35ef-4b6c-b2f8-71f7cc07f678"
      },
      "source": [
        "# モデルの学習方法について指定\n",
        "model.compile(loss = keras.losses.categorical_crossentropy,\n",
        "              optimizer = keras.optimizers.RMSprop(lr=1e-4, decay = 1e-6),\n",
        "              metrics=['accuracy'])\n",
        " \n",
        "STEP_SIZE_TRAIN=train_generator.n // train_generator.batch_size\n",
        "STEP_SIZE_VALID=validation_generator.n  // validation_generator.batch_size\n",
        "epochs = 50\n",
        "\n",
        "# 学習 \n",
        "result = model.fit_generator(train_generator,\n",
        "                             steps_per_epoch=STEP_SIZE_TRAIN,\n",
        "                             epochs=epochs,\n",
        "                             validation_data=validation_generator,\n",
        "                             validation_steps=STEP_SIZE_VALID)"
      ],
      "execution_count": 20,
      "outputs": [
        {
          "output_type": "stream",
          "text": [
            "Epoch 1/50\n",
            "45/45 [==============================] - 30s 659ms/step - loss: 2.6765 - accuracy: 0.0967 - val_loss: 2.4753 - val_accuracy: 0.1281\n",
            "Epoch 2/50\n",
            "45/45 [==============================] - 29s 640ms/step - loss: 2.4002 - accuracy: 0.1252 - val_loss: 2.2274 - val_accuracy: 0.1422\n",
            "Epoch 3/50\n",
            "45/45 [==============================] - 29s 641ms/step - loss: 1.9660 - accuracy: 0.1831 - val_loss: 1.6238 - val_accuracy: 0.2547\n",
            "Epoch 4/50\n",
            "45/45 [==============================] - 29s 641ms/step - loss: 1.2985 - accuracy: 0.4896 - val_loss: 0.7221 - val_accuracy: 0.8188\n",
            "Epoch 5/50\n",
            "45/45 [==============================] - 29s 647ms/step - loss: 0.6211 - accuracy: 0.7949 - val_loss: 0.4899 - val_accuracy: 0.8766\n",
            "Epoch 6/50\n",
            "45/45 [==============================] - 29s 643ms/step - loss: 0.3516 - accuracy: 0.8848 - val_loss: 0.1383 - val_accuracy: 0.9563\n",
            "Epoch 7/50\n",
            "45/45 [==============================] - 29s 644ms/step - loss: 0.2861 - accuracy: 0.9184 - val_loss: 0.0537 - val_accuracy: 0.9875\n",
            "Epoch 8/50\n",
            "45/45 [==============================] - 29s 644ms/step - loss: 0.1896 - accuracy: 0.9428 - val_loss: 0.1811 - val_accuracy: 0.9391\n",
            "Epoch 9/50\n",
            "45/45 [==============================] - 30s 676ms/step - loss: 0.2091 - accuracy: 0.9443 - val_loss: 0.0702 - val_accuracy: 0.9781\n",
            "Epoch 10/50\n",
            "45/45 [==============================] - 30s 659ms/step - loss: 0.1184 - accuracy: 0.9643 - val_loss: 0.0354 - val_accuracy: 0.9859\n",
            "Epoch 11/50\n",
            "45/45 [==============================] - 29s 645ms/step - loss: 0.1572 - accuracy: 0.9561 - val_loss: 0.0870 - val_accuracy: 0.9656\n",
            "Epoch 12/50\n",
            "45/45 [==============================] - 29s 643ms/step - loss: 0.0908 - accuracy: 0.9764 - val_loss: 0.0353 - val_accuracy: 0.9891\n",
            "Epoch 13/50\n",
            "45/45 [==============================] - 29s 642ms/step - loss: 0.0937 - accuracy: 0.9753 - val_loss: 0.2517 - val_accuracy: 0.9484\n",
            "Epoch 14/50\n",
            "45/45 [==============================] - 29s 643ms/step - loss: 0.1144 - accuracy: 0.9781 - val_loss: 0.0166 - val_accuracy: 0.9953\n",
            "Epoch 15/50\n",
            "45/45 [==============================] - 29s 642ms/step - loss: 0.0690 - accuracy: 0.9814 - val_loss: 0.7716 - val_accuracy: 0.8281\n",
            "Epoch 16/50\n",
            "45/45 [==============================] - 29s 639ms/step - loss: 0.0448 - accuracy: 0.9888 - val_loss: 0.2863 - val_accuracy: 0.9297\n",
            "Epoch 17/50\n",
            "45/45 [==============================] - 29s 645ms/step - loss: 0.0694 - accuracy: 0.9811 - val_loss: 0.3261 - val_accuracy: 0.9219\n",
            "Epoch 18/50\n",
            "45/45 [==============================] - 29s 641ms/step - loss: 0.0619 - accuracy: 0.9874 - val_loss: 0.0327 - val_accuracy: 0.9859\n",
            "Epoch 19/50\n",
            "45/45 [==============================] - 30s 658ms/step - loss: 0.0737 - accuracy: 0.9834 - val_loss: 0.0224 - val_accuracy: 0.9922\n",
            "Epoch 20/50\n",
            "45/45 [==============================] - 30s 662ms/step - loss: 0.0675 - accuracy: 0.9814 - val_loss: 0.0060 - val_accuracy: 0.9984\n",
            "Epoch 21/50\n",
            "45/45 [==============================] - 29s 638ms/step - loss: 0.0432 - accuracy: 0.9914 - val_loss: 0.0139 - val_accuracy: 0.9969\n",
            "Epoch 22/50\n",
            "45/45 [==============================] - 29s 638ms/step - loss: 0.0492 - accuracy: 0.9879 - val_loss: 0.0114 - val_accuracy: 0.9984\n",
            "Epoch 23/50\n",
            "45/45 [==============================] - 29s 643ms/step - loss: 0.0620 - accuracy: 0.9886 - val_loss: 0.0101 - val_accuracy: 0.9937\n",
            "Epoch 24/50\n",
            "45/45 [==============================] - 29s 641ms/step - loss: 0.0693 - accuracy: 0.9823 - val_loss: 0.0053 - val_accuracy: 1.0000\n",
            "Epoch 25/50\n",
            "45/45 [==============================] - 29s 642ms/step - loss: 0.0552 - accuracy: 0.9886 - val_loss: 0.0099 - val_accuracy: 0.9984\n",
            "Epoch 26/50\n",
            "45/45 [==============================] - 29s 643ms/step - loss: 0.0279 - accuracy: 0.9905 - val_loss: 0.0511 - val_accuracy: 0.9891\n",
            "Epoch 27/50\n",
            "45/45 [==============================] - 29s 643ms/step - loss: 0.0397 - accuracy: 0.9939 - val_loss: 0.0778 - val_accuracy: 0.9703\n",
            "Epoch 28/50\n",
            "45/45 [==============================] - 29s 641ms/step - loss: 0.0185 - accuracy: 0.9944 - val_loss: 0.4370 - val_accuracy: 0.9094\n",
            "Epoch 29/50\n",
            "45/45 [==============================] - 29s 645ms/step - loss: 0.0383 - accuracy: 0.9891 - val_loss: 0.0039 - val_accuracy: 0.9969\n",
            "Epoch 30/50\n",
            "45/45 [==============================] - 31s 683ms/step - loss: 0.0374 - accuracy: 0.9918 - val_loss: 0.0170 - val_accuracy: 0.9953\n",
            "Epoch 31/50\n",
            "45/45 [==============================] - 29s 646ms/step - loss: 0.0251 - accuracy: 0.9919 - val_loss: 0.0034 - val_accuracy: 0.9984\n",
            "Epoch 32/50\n",
            "45/45 [==============================] - 29s 645ms/step - loss: 0.0483 - accuracy: 0.9883 - val_loss: 0.0225 - val_accuracy: 0.9906\n",
            "Epoch 33/50\n",
            "45/45 [==============================] - 29s 646ms/step - loss: 0.0278 - accuracy: 0.9944 - val_loss: 0.0068 - val_accuracy: 0.9953\n",
            "Epoch 34/50\n",
            "45/45 [==============================] - 29s 642ms/step - loss: 0.0065 - accuracy: 0.9981 - val_loss: 0.0095 - val_accuracy: 0.9969\n",
            "Epoch 35/50\n",
            "45/45 [==============================] - 29s 647ms/step - loss: 0.0252 - accuracy: 0.9954 - val_loss: 0.0169 - val_accuracy: 0.9937\n",
            "Epoch 36/50\n",
            "45/45 [==============================] - 29s 644ms/step - loss: 0.0164 - accuracy: 0.9963 - val_loss: 0.1629 - val_accuracy: 0.9609\n",
            "Epoch 37/50\n",
            "45/45 [==============================] - 29s 653ms/step - loss: 0.0544 - accuracy: 0.9930 - val_loss: 0.0026 - val_accuracy: 0.9984\n",
            "Epoch 38/50\n",
            "45/45 [==============================] - 29s 652ms/step - loss: 0.0380 - accuracy: 0.9923 - val_loss: 0.0670 - val_accuracy: 0.9797\n",
            "Epoch 39/50\n",
            "45/45 [==============================] - 29s 651ms/step - loss: 0.0275 - accuracy: 0.9935 - val_loss: 0.0028 - val_accuracy: 0.9984\n",
            "Epoch 40/50\n",
            "45/45 [==============================] - 31s 680ms/step - loss: 0.0487 - accuracy: 0.9947 - val_loss: 0.0120 - val_accuracy: 0.9969\n",
            "Epoch 41/50\n",
            "45/45 [==============================] - 29s 639ms/step - loss: 0.0136 - accuracy: 0.9963 - val_loss: 0.0129 - val_accuracy: 0.9969\n",
            "Epoch 42/50\n",
            "45/45 [==============================] - 29s 637ms/step - loss: 0.0296 - accuracy: 0.9949 - val_loss: 7.0493e-04 - val_accuracy: 1.0000\n",
            "Epoch 43/50\n",
            "45/45 [==============================] - 28s 632ms/step - loss: 0.0344 - accuracy: 0.9921 - val_loss: 0.0088 - val_accuracy: 0.9984\n",
            "Epoch 44/50\n",
            "45/45 [==============================] - 29s 636ms/step - loss: 0.0198 - accuracy: 0.9962 - val_loss: 0.0146 - val_accuracy: 0.9953\n",
            "Epoch 45/50\n",
            "45/45 [==============================] - 28s 629ms/step - loss: 9.1035e-04 - accuracy: 0.9996 - val_loss: 0.0655 - val_accuracy: 0.9828\n",
            "Epoch 46/50\n",
            "45/45 [==============================] - 29s 635ms/step - loss: 0.0443 - accuracy: 0.9923 - val_loss: 0.0024 - val_accuracy: 1.0000\n",
            "Epoch 47/50\n",
            "45/45 [==============================] - 28s 627ms/step - loss: 0.0010 - accuracy: 0.9998 - val_loss: 3.6706e-04 - val_accuracy: 1.0000\n",
            "Epoch 48/50\n",
            "45/45 [==============================] - 28s 631ms/step - loss: 0.0437 - accuracy: 0.9909 - val_loss: 0.0024 - val_accuracy: 1.0000\n",
            "Epoch 49/50\n",
            "45/45 [==============================] - 28s 629ms/step - loss: 0.0105 - accuracy: 0.9958 - val_loss: 0.2811 - val_accuracy: 0.9328\n",
            "Epoch 50/50\n",
            "45/45 [==============================] - 28s 623ms/step - loss: 0.0156 - accuracy: 0.9972 - val_loss: 0.0167 - val_accuracy: 0.9891\n"
          ],
          "name": "stdout"
        }
      ]
    },
    {
      "cell_type": "code",
      "metadata": {
        "id": "HVgOKNWPu_8h",
        "colab_type": "code",
        "colab": {
          "base_uri": "https://localhost:8080/",
          "height": 34
        },
        "outputId": "f732144e-7f32-4f79-f3d3-0360908ff5de"
      },
      "source": [
        "result.history.keys()"
      ],
      "execution_count": 9,
      "outputs": [
        {
          "output_type": "execute_result",
          "data": {
            "text/plain": [
              "dict_keys(['loss', 'accuracy', 'val_loss', 'val_accuracy'])"
            ]
          },
          "metadata": {
            "tags": []
          },
          "execution_count": 9
        }
      ]
    },
    {
      "cell_type": "markdown",
      "metadata": {
        "id": "Vo9-x8aHANGo",
        "colab_type": "text"
      },
      "source": [
        "### **学習状況の可視化**"
      ]
    },
    {
      "cell_type": "code",
      "metadata": {
        "id": "UPiDmVIHR9-M",
        "colab_type": "code",
        "colab": {
          "base_uri": "https://localhost:8080/",
          "height": 325
        },
        "outputId": "e2f1af5c-ce3e-40ed-c051-fbba83c8164c"
      },
      "source": [
        "plt.style.use('fivethirtyeight')\n",
        "plt.title('Model Accuracy')\n",
        "plt.plot(range(1, epochs+1), result.history['accuracy'], label=\"training\")\n",
        "plt.plot(range(1, epochs+1), result.history['val_accuracy'], label=\"validation\")\n",
        "plt.xlabel('Epochs')\n",
        "plt.ylabel('Accuracy')\n",
        "plt.legend()\n",
        "plt.show()"
      ],
      "execution_count": 21,
      "outputs": [
        {
          "output_type": "display_data",
          "data": {
            "image/png": "[encoded data removed]",
            "text/plain": [
              "<Figure size 432x288 with 1 Axes>"
            ]
          },
          "metadata": {
            "tags": []
          }
        }
      ]
    },
    {
      "cell_type": "code",
      "metadata": {
        "id": "thE8dpD-tcxR",
        "colab_type": "code",
        "colab": {
          "base_uri": "https://localhost:8080/",
          "height": 325
        },
        "outputId": "6b9d752b-f065-4df6-ecbe-85e97e3d937f"
      },
      "source": [
        "plt.style.use('fivethirtyeight')\n",
        "plt.title('Model Loss')\n",
        "plt.plot(range(1, epochs+1), result.history['loss'], label=\"training\")\n",
        "plt.plot(range(1, epochs+1), result.history['val_loss'], label=\"validation\")\n",
        "plt.xlabel('Epochs')\n",
        "plt.ylabel('Loss')\n",
        "plt.legend()\n",
        "plt.show()"
      ],
      "execution_count": 22,
      "outputs": [
        {
          "output_type": "display_data",
          "data": {
            "image/png": "[encoded data removed]",
            "text/plain": [
              "<Figure size 432x288 with 1 Axes>"
            ]
          },
          "metadata": {
            "tags": []
          }
        }
      ]
    },
    {
      "cell_type": "code",
      "metadata": {
        "id": "pGjrjiAIjIyH",
        "colab_type": "code",
        "colab": {}
      },
      "source": [
        ""
      ],
      "execution_count": null,
      "outputs": []
    }
  ]
}