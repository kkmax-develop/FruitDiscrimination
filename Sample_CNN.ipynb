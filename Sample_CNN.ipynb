{
  "nbformat": 4,
  "nbformat_minor": 0,
  "metadata": {
    "colab": {
      "name": "Sample_CNN.ipynb",
      "provenance": [],
      "collapsed_sections": [],
      "mount_file_id": "1I881LvD4O8wdWJk6zaXq_flAa1Sv7q-w",
      "authorship_tag": "ABX9TyM9Kg/6nGUK1h80uuhou95y",
      "include_colab_link": true
    },
    "kernelspec": {
      "name": "python3",
      "display_name": "Python 3"
    },
    "accelerator": "GPU"
  },
  "cells": [
    {
      "cell_type": "markdown",
      "metadata": {
        "id": "view-in-github",
        "colab_type": "text"
      },
      "source": [
        "<a href=\"https://colab.research.google.com/github/kkmax-develop/FruitDiscrimination/blob/master/Sample_CNN.ipynb\" target=\"_parent\"><img src=\"https://colab.research.google.com/assets/colab-badge.svg\" alt=\"Open In Colab\"/></a>"
      ]
    },
    {
      "cell_type": "code",
      "metadata": {
        "id": "NF1R-SO_zDwq",
        "colab_type": "code",
        "colab": {
          "base_uri": "https://localhost:8080/",
          "height": 119
        },
        "outputId": "ee47f8c4-326c-448c-a32c-dd149b2cfa1e"
      },
      "source": [
        "!pip install keras"
      ],
      "execution_count": 1,
      "outputs": [
        {
          "output_type": "stream",
          "text": [
            "Requirement already satisfied: keras in /usr/local/lib/python3.6/dist-packages (2.4.3)\n",
            "Requirement already satisfied: scipy>=0.14 in /usr/local/lib/python3.6/dist-packages (from keras) (1.4.1)\n",
            "Requirement already satisfied: numpy>=1.9.1 in /usr/local/lib/python3.6/dist-packages (from keras) (1.18.5)\n",
            "Requirement already satisfied: h5py in /usr/local/lib/python3.6/dist-packages (from keras) (2.10.0)\n",
            "Requirement already satisfied: pyyaml in /usr/local/lib/python3.6/dist-packages (from keras) (3.13)\n",
            "Requirement already satisfied: six in /usr/local/lib/python3.6/dist-packages (from h5py->keras) (1.15.0)\n"
          ],
          "name": "stdout"
        }
      ]
    },
    {
      "cell_type": "code",
      "metadata": {
        "id": "OXiBlObPzeIQ",
        "colab_type": "code",
        "colab": {}
      },
      "source": [
        "import os\n",
        "import numpy as np\n",
        "import matplotlib.pyplot as plt\n",
        "from tensorflow import keras\n",
        "from tensorflow.python.keras.preprocessing import image\n",
        "from tensorflow.python.keras.preprocessing.image import ImageDataGenerator\n",
        "\n",
        "from tensorflow.keras.layers import Dense, Conv2D, MaxPooling2D, Flatten, Input, Activation, add, Add, Dropout, BatchNormalization\n",
        "from tensorflow.keras.callbacks import EarlyStopping\n",
        "from tensorflow.keras.models import Sequential, Model"
      ],
      "execution_count": 2,
      "outputs": []
    },
    {
      "cell_type": "code",
      "metadata": {
        "id": "0SjBz1JyMNZW",
        "colab_type": "code",
        "colab": {}
      },
      "source": [
        "datagen = image.ImageDataGenerator(\n",
        "            featurewise_center = False,\n",
        "            samplewise_center = False,\n",
        "            featurewise_std_normalization = False,\n",
        "            samplewise_std_normalization = False,\n",
        "            zca_whitening = False,\n",
        "            rotation_range = 30,\n",
        "            width_shift_range = 0.3,\n",
        "            height_shift_range = 0.3,\n",
        "            horizontal_flip = True,\n",
        "            vertical_flip = False,\n",
        "            validation_split = 0.1\n",
        "        )"
      ],
      "execution_count": 3,
      "outputs": []
    },
    {
      "cell_type": "code",
      "metadata": {
        "id": "RTqBGsNGzMbd",
        "colab_type": "code",
        "colab": {
          "base_uri": "https://localhost:8080/",
          "height": 34
        },
        "outputId": "964f7617-b030-4a70-e15c-48977cda2e4d"
      },
      "source": [
        "batch_size = 128\n",
        "IMG_WIDTH = 100\n",
        "IMG_HEIGHT = 100\n",
        "CHANNELS = 3\n",
        "train_dir = \"/content/drive/My Drive/Colab Notebooks/FruitDiscrimination/data/training\"\n",
        "TARGET = [\"Apple Golden 1\",\"Avocado\",\"Banana\",\"Blueberry\",\"Cherry 1\",\"Grape Pink\",\"Kaki\",\n",
        "         \"Lemon\",\"Mango\",\"Onion Red\",\"Peach\",\"Strawberry\",\"Tomato 1\"]\n",
        "\n",
        "train_generator = datagen.flow_from_directory(\n",
        "            train_dir,\n",
        "            target_size=(IMG_WIDTH,IMG_HEIGHT),\n",
        "            batch_size=batch_size,\n",
        "            class_mode='categorical',\n",
        "            shuffle=True,\n",
        "            classes=TARGET,\n",
        "            subset = \"training\" \n",
        "        )"
      ],
      "execution_count": 48,
      "outputs": [
        {
          "output_type": "stream",
          "text": [
            "Found 5841 images belonging to 13 classes.\n"
          ],
          "name": "stdout"
        }
      ]
    },
    {
      "cell_type": "code",
      "metadata": {
        "id": "cUuuk9liRdrK",
        "colab_type": "code",
        "colab": {
          "base_uri": "https://localhost:8080/",
          "height": 34
        },
        "outputId": "bed0348c-46fa-4733-ebcd-97cb587b46b4"
      },
      "source": [
        "validation_generator = datagen.flow_from_directory(\n",
        "            train_dir,\n",
        "            target_size=(IMG_WIDTH,IMG_HEIGHT),\n",
        "            batch_size=batch_size,\n",
        "            class_mode='categorical',\n",
        "            classes=TARGET,\n",
        "            subset = \"validation\" \n",
        "        )"
      ],
      "execution_count": 49,
      "outputs": [
        {
          "output_type": "stream",
          "text": [
            "Found 646 images belonging to 13 classes.\n"
          ],
          "name": "stdout"
        }
      ]
    },
    {
      "cell_type": "code",
      "metadata": {
        "id": "8-xLv6VHzbqc",
        "colab_type": "code",
        "colab": {
          "base_uri": "https://localhost:8080/",
          "height": 527
        },
        "outputId": "cdd5516e-75cd-4d2d-ff12-ba25bef3555d"
      },
      "source": [
        "# モデルの「容器」を作成\n",
        "model = Sequential()\n",
        "\n",
        "model.add(Conv2D(32,(3,3),activation=\"relu\",input_shape=(IMG_WIDTH,IMG_HEIGHT,CHANNELS)))\n",
        "model.add(MaxPooling2D((2,2)))\n",
        " \n",
        "model.add(Conv2D(64,(3,3),activation=\"relu\"))\n",
        "model.add(MaxPooling2D((2,2)))\n",
        " \n",
        "model.add(Conv2D(128,(3,3),activation=\"relu\"))\n",
        "model.add(MaxPooling2D((2,2)))\n",
        " \n",
        "model.add(Conv2D(128,(3,3),activation=\"relu\"))\n",
        "model.add(MaxPooling2D((2,2),padding=\"SAME\"))\n",
        " \n",
        "model.add(Flatten())\n",
        " \n",
        "model.add(Dense(512,activation=\"relu\"))\n",
        "model.add(Dense(13,activation=\"sigmoid\"))\n",
        " \n",
        "model.summary()"
      ],
      "execution_count": 50,
      "outputs": [
        {
          "output_type": "stream",
          "text": [
            "Model: \"sequential_7\"\n",
            "_________________________________________________________________\n",
            "Layer (type)                 Output Shape              Param #   \n",
            "=================================================================\n",
            "conv2d_24 (Conv2D)           (None, 98, 98, 32)        896       \n",
            "_________________________________________________________________\n",
            "max_pooling2d_24 (MaxPooling (None, 49, 49, 32)        0         \n",
            "_________________________________________________________________\n",
            "conv2d_25 (Conv2D)           (None, 47, 47, 64)        18496     \n",
            "_________________________________________________________________\n",
            "max_pooling2d_25 (MaxPooling (None, 23, 23, 64)        0         \n",
            "_________________________________________________________________\n",
            "conv2d_26 (Conv2D)           (None, 21, 21, 128)       73856     \n",
            "_________________________________________________________________\n",
            "max_pooling2d_26 (MaxPooling (None, 10, 10, 128)       0         \n",
            "_________________________________________________________________\n",
            "conv2d_27 (Conv2D)           (None, 8, 8, 128)         147584    \n",
            "_________________________________________________________________\n",
            "max_pooling2d_27 (MaxPooling (None, 4, 4, 128)         0         \n",
            "_________________________________________________________________\n",
            "flatten_6 (Flatten)          (None, 2048)              0         \n",
            "_________________________________________________________________\n",
            "dense_12 (Dense)             (None, 512)               1049088   \n",
            "_________________________________________________________________\n",
            "dense_13 (Dense)             (None, 13)                6669      \n",
            "=================================================================\n",
            "Total params: 1,296,589\n",
            "Trainable params: 1,296,589\n",
            "Non-trainable params: 0\n",
            "_________________________________________________________________\n"
          ],
          "name": "stdout"
        }
      ]
    },
    {
      "cell_type": "code",
      "metadata": {
        "id": "p1gXVJD5HTQ0",
        "colab_type": "code",
        "colab": {
          "base_uri": "https://localhost:8080/",
          "height": 697
        },
        "outputId": "2c3ba759-4d0c-4b21-ce30-c4a9ea52f35f"
      },
      "source": [
        "model.compile(loss=keras.losses.categorical_crossentropy,\n",
        "              optimizer = keras.optimizers.RMSprop(lr=1e-4, decay = 1e-6),\n",
        "              metrics=['accuracy'])\n",
        " \n",
        "STEP_SIZE_TRAIN=train_generator.n // train_generator.batch_size\n",
        "STEP_SIZE_VALID=validation_generator.n  // validation_generator.batch_size\n",
        "epochs = 20\n",
        " \n",
        "result = model.fit_generator(train_generator,\n",
        "                             steps_per_epoch=STEP_SIZE_TRAIN,\n",
        "                             epochs=epochs,\n",
        "                             validation_data=validation_generator,\n",
        "                             validation_steps=STEP_SIZE_VALID)"
      ],
      "execution_count": 51,
      "outputs": [
        {
          "output_type": "stream",
          "text": [
            "Epoch 1/20\n",
            "45/45 [==============================] - 29s 648ms/step - loss: 2.6436 - accuracy: 0.0711 - val_loss: 2.5530 - val_accuracy: 0.0750\n",
            "Epoch 2/20\n",
            "45/45 [==============================] - 28s 626ms/step - loss: 2.5592 - accuracy: 0.0793 - val_loss: 2.5291 - val_accuracy: 0.0797\n",
            "Epoch 3/20\n",
            "45/45 [==============================] - 28s 626ms/step - loss: 2.4527 - accuracy: 0.1120 - val_loss: 2.2957 - val_accuracy: 0.1391\n",
            "Epoch 4/20\n",
            "45/45 [==============================] - 28s 621ms/step - loss: 2.3790 - accuracy: 0.1362 - val_loss: 2.1540 - val_accuracy: 0.1359\n",
            "Epoch 5/20\n",
            "45/45 [==============================] - 28s 623ms/step - loss: 2.1630 - accuracy: 0.1427 - val_loss: 2.1294 - val_accuracy: 0.0969\n",
            "Epoch 6/20\n",
            "45/45 [==============================] - 28s 621ms/step - loss: 1.9865 - accuracy: 0.1791 - val_loss: 1.7051 - val_accuracy: 0.1391\n",
            "Epoch 7/20\n",
            "45/45 [==============================] - 30s 659ms/step - loss: 1.7325 - accuracy: 0.2170 - val_loss: 1.5360 - val_accuracy: 0.1187\n",
            "Epoch 8/20\n",
            "45/45 [==============================] - 28s 615ms/step - loss: 1.5662 - accuracy: 0.1999 - val_loss: 1.4637 - val_accuracy: 0.1047\n",
            "Epoch 9/20\n",
            "45/45 [==============================] - 27s 608ms/step - loss: 1.3771 - accuracy: 0.2036 - val_loss: 1.2650 - val_accuracy: 0.1594\n",
            "Epoch 10/20\n",
            "45/45 [==============================] - 27s 611ms/step - loss: 1.0875 - accuracy: 0.4252 - val_loss: 0.7752 - val_accuracy: 0.6766\n",
            "Epoch 11/20\n",
            "45/45 [==============================] - 28s 623ms/step - loss: 0.6735 - accuracy: 0.6848 - val_loss: 0.5010 - val_accuracy: 0.7156\n",
            "Epoch 12/20\n",
            "45/45 [==============================] - 28s 627ms/step - loss: 0.4921 - accuracy: 0.7999 - val_loss: 0.4228 - val_accuracy: 0.8813\n",
            "Epoch 13/20\n",
            "45/45 [==============================] - 28s 632ms/step - loss: 0.4282 - accuracy: 0.8405 - val_loss: 0.4504 - val_accuracy: 0.8625\n",
            "Epoch 14/20\n",
            "45/45 [==============================] - 28s 631ms/step - loss: 0.2942 - accuracy: 0.9090 - val_loss: 0.1719 - val_accuracy: 0.9578\n",
            "Epoch 15/20\n",
            "45/45 [==============================] - 28s 632ms/step - loss: 0.1954 - accuracy: 0.9403 - val_loss: 0.0822 - val_accuracy: 0.9750\n",
            "Epoch 16/20\n",
            "45/45 [==============================] - 28s 627ms/step - loss: 0.1676 - accuracy: 0.9517 - val_loss: 0.0269 - val_accuracy: 0.9891\n",
            "Epoch 17/20\n",
            "45/45 [==============================] - 29s 642ms/step - loss: 0.1571 - accuracy: 0.9566 - val_loss: 0.0463 - val_accuracy: 0.9844\n",
            "Epoch 18/20\n",
            "45/45 [==============================] - 30s 675ms/step - loss: 0.1081 - accuracy: 0.9702 - val_loss: 0.0136 - val_accuracy: 0.9969\n",
            "Epoch 19/20\n",
            "45/45 [==============================] - 31s 680ms/step - loss: 0.0919 - accuracy: 0.9788 - val_loss: 0.0651 - val_accuracy: 0.9750\n",
            "Epoch 20/20\n",
            "45/45 [==============================] - 31s 695ms/step - loss: 0.0912 - accuracy: 0.9802 - val_loss: 0.0506 - val_accuracy: 0.9781\n"
          ],
          "name": "stdout"
        }
      ]
    },
    {
      "cell_type": "code",
      "metadata": {
        "id": "HVgOKNWPu_8h",
        "colab_type": "code",
        "colab": {
          "base_uri": "https://localhost:8080/",
          "height": 34
        },
        "outputId": "4c9fce7d-5cd5-4278-ff06-84c8dcfcc9ad"
      },
      "source": [
        "result.history.keys()"
      ],
      "execution_count": 52,
      "outputs": [
        {
          "output_type": "execute_result",
          "data": {
            "text/plain": [
              "dict_keys(['loss', 'accuracy', 'val_loss', 'val_accuracy'])"
            ]
          },
          "metadata": {
            "tags": []
          },
          "execution_count": 52
        }
      ]
    },
    {
      "cell_type": "code",
      "metadata": {
        "id": "UPiDmVIHR9-M",
        "colab_type": "code",
        "colab": {
          "base_uri": "https://localhost:8080/",
          "height": 325
        },
        "outputId": "37dca883-900b-44df-bb8d-d9f701d69d3f"
      },
      "source": [
        "plt.style.use('fivethirtyeight')\n",
        "plt.title('Model Accuracy')\n",
        "plt.plot(range(1, epochs+1), result.history['accuracy'], label=\"training\")\n",
        "plt.plot(range(1, epochs+1), result.history['val_accuracy'], label=\"validation\")\n",
        "plt.xlabel('Epochs')\n",
        "plt.ylabel('Accuracy')\n",
        "plt.legend()\n",
        "plt.show()"
      ],
      "execution_count": 53,
      "outputs": [
        {
          "output_type": "display_data",
          "data": {
            "image/png": "[encoded data removed]",
            "text/plain": [
              "<Figure size 432x288 with 1 Axes>"
            ]
          },
          "metadata": {
            "tags": []
          }
        }
      ]
    },
    {
      "cell_type": "code",
      "metadata": {
        "id": "thE8dpD-tcxR",
        "colab_type": "code",
        "colab": {
          "base_uri": "https://localhost:8080/",
          "height": 325
        },
        "outputId": "bbd72b70-2e40-4943-ef2c-8111baa4b5f4"
      },
      "source": [
        "plt.style.use('fivethirtyeight')\n",
        "plt.title('Model Loss')\n",
        "plt.plot(range(1, epochs+1), result.history['loss'], label=\"training\")\n",
        "plt.plot(range(1, epochs+1), result.history['val_loss'], label=\"validation\")\n",
        "plt.xlabel('Epochs')\n",
        "plt.ylabel('Loss')\n",
        "plt.legend()\n",
        "plt.show()"
      ],
      "execution_count": 54,
      "outputs": [
        {
          "output_type": "display_data",
          "data": {
            "image/png": "[encoded data removed]",
            "text/plain": [
              "<Figure size 432x288 with 1 Axes>"
            ]
          },
          "metadata": {
            "tags": []
          }
        }
      ]
    },
    {
      "cell_type": "code",
      "metadata": {
        "id": "fTjLK8p62erb",
        "colab_type": "code",
        "colab": {}
      },
      "source": [
        ""
      ],
      "execution_count": null,
      "outputs": []
    }
  ]
}