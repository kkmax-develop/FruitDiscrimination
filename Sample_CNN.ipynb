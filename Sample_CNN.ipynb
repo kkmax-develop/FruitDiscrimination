{
  "nbformat": 4,
  "nbformat_minor": 0,
  "metadata": {
    "colab": {
      "name": "Sample_CNN.ipynb",
      "provenance": [],
      "collapsed_sections": [],
      "mount_file_id": "1I881LvD4O8wdWJk6zaXq_flAa1Sv7q-w",
      "authorship_tag": "ABX9TyPwJux63L6NDdI+OvG+9wXz",
      "include_colab_link": true
    },
    "kernelspec": {
      "name": "python3",
      "display_name": "Python 3"
    },
    "accelerator": "GPU"
  },
  "cells": [
    {
      "cell_type": "markdown",
      "metadata": {
        "id": "view-in-github",
        "colab_type": "text"
      },
      "source": [
        "<a href=\"https://colab.research.google.com/github/kkmax-develop/FruitDiscrimination/blob/master/Sample_CNN.ipynb\" target=\"_parent\"><img src=\"https://colab.research.google.com/assets/colab-badge.svg\" alt=\"Open In Colab\"/></a>"
      ]
    },
    {
      "cell_type": "code",
      "metadata": {
        "id": "NF1R-SO_zDwq",
        "colab_type": "code",
        "colab": {
          "base_uri": "https://localhost:8080/",
          "height": 35
        },
        "outputId": "edcbae99-9fd8-46dd-a45e-c74bb59eebd1"
      },
      "source": [
        "# GPUが割り当てられているかチェック\n",
        "import tensorflow as tf\n",
        "tf.test.gpu_device_name()"
      ],
      "execution_count": 1,
      "outputs": [
        {
          "output_type": "execute_result",
          "data": {
            "application/vnd.google.colaboratory.intrinsic+json": {
              "type": "string"
            },
            "text/plain": [
              "'/device:GPU:0'"
            ]
          },
          "metadata": {
            "tags": []
          },
          "execution_count": 1
        }
      ]
    },
    {
      "cell_type": "markdown",
      "metadata": {
        "id": "oI7f2HRmJt1S",
        "colab_type": "text"
      },
      "source": [
        "### **ライブラリのインポート**"
      ]
    },
    {
      "cell_type": "code",
      "metadata": {
        "id": "OXiBlObPzeIQ",
        "colab_type": "code",
        "colab": {}
      },
      "source": [
        "import os\n",
        "import numpy as np\n",
        "import matplotlib.pyplot as plt\n",
        "\n",
        "#画像認識関連ライブラリ\n",
        "from tensorflow import keras\n",
        "from tensorflow.python.keras.preprocessing import image\n",
        "from tensorflow.python.keras.preprocessing.image import ImageDataGenerator\n",
        "from tensorflow.keras.layers import Dense, Conv2D, MaxPooling2D, Flatten, Input, Activation, add, Add, Dropout, BatchNormalization\n",
        "from tensorflow.keras.callbacks import EarlyStopping\n",
        "from tensorflow.keras.models import Sequential, Model"
      ],
      "execution_count": 2,
      "outputs": []
    },
    {
      "cell_type": "markdown",
      "metadata": {
        "id": "p8Rcpj4e-3H1",
        "colab_type": "text"
      },
      "source": [
        "### **データの前処理**"
      ]
    },
    {
      "cell_type": "markdown",
      "metadata": {
        "id": "5iDnR2oH-8PL",
        "colab_type": "text"
      },
      "source": [
        "ImageDataGeneratorクラスのインスタンスを作成。各引数の意味は公式ドキュメントを参照。"
      ]
    },
    {
      "cell_type": "markdown",
      "metadata": {
        "id": "e22k-mP7_BB8",
        "colab_type": "text"
      },
      "source": [
        "https://keras.io/ja/preprocessing/image/"
      ]
    },
    {
      "cell_type": "code",
      "metadata": {
        "id": "0SjBz1JyMNZW",
        "colab_type": "code",
        "colab": {}
      },
      "source": [
        "# データ拡張の定義。データ拡張は行わず、正規化とデータ分割のみ実施。trainデータとvalidationデータは8：2で設定。\n",
        "datagen = image.ImageDataGenerator(rescale=1.0 / 255,validation_split = 0.2)"
      ],
      "execution_count": 3,
      "outputs": []
    },
    {
      "cell_type": "code",
      "metadata": {
        "id": "RTqBGsNGzMbd",
        "colab_type": "code",
        "colab": {
          "base_uri": "https://localhost:8080/",
          "height": 34
        },
        "outputId": "cdf36d9f-11f1-4b9d-91b9-b475fdcdd296"
      },
      "source": [
        "# ImageDataGeneratorを使用してデータの読み込みと拡張\n",
        "batch_size = 128\n",
        "IMG_WIDTH = 64\n",
        "IMG_HEIGHT = 64\n",
        "CHANNELS = 3\n",
        "CLASSES = 131\n",
        "train_dir = \"/content/drive/My Drive/Colab Notebooks/FruitDiscrimination/data/training\"\n",
        "TARGET = [\"Apple Golden 1\",\"Avocado\",\"Banana\",\"Blueberry\",\"Cherry 1\",\"Grape Pink\",\"Kaki\",\n",
        "         \"Lemon\",\"Mango\",\"Onion Red\",\"Peach\",\"Strawberry\",\"Tomato 1\"]\n",
        "\n",
        "train_generator = datagen.flow_from_directory(\n",
        "            train_dir,\n",
        "            target_size=(IMG_WIDTH,IMG_HEIGHT),\n",
        "            batch_size=batch_size,\n",
        "            class_mode='categorical',\n",
        "            shuffle=True,\n",
        "            #classes=TARGET,\n",
        "            subset = \"training\" \n",
        "        )"
      ],
      "execution_count": 4,
      "outputs": [
        {
          "output_type": "stream",
          "text": [
            "Found 54191 images belonging to 131 classes.\n"
          ],
          "name": "stdout"
        }
      ]
    },
    {
      "cell_type": "code",
      "metadata": {
        "id": "cUuuk9liRdrK",
        "colab_type": "code",
        "colab": {
          "base_uri": "https://localhost:8080/",
          "height": 34
        },
        "outputId": "a9cf75ae-bee0-49be-ba5e-98756f428aff"
      },
      "source": [
        "# validationデータの読み込み\n",
        "validation_generator = datagen.flow_from_directory(\n",
        "            train_dir,\n",
        "            target_size=(IMG_WIDTH,IMG_HEIGHT),\n",
        "            batch_size=batch_size,\n",
        "            class_mode='categorical',\n",
        "            #classes=TARGET,\n",
        "            subset = \"validation\" \n",
        "        )"
      ],
      "execution_count": 5,
      "outputs": [
        {
          "output_type": "stream",
          "text": [
            "Found 13502 images belonging to 131 classes.\n"
          ],
          "name": "stdout"
        }
      ]
    },
    {
      "cell_type": "markdown",
      "metadata": {
        "id": "68xiwlxZ_kO1",
        "colab_type": "text"
      },
      "source": [
        "### **モデル作成**"
      ]
    },
    {
      "cell_type": "code",
      "metadata": {
        "id": "8-xLv6VHzbqc",
        "colab_type": "code",
        "colab": {
          "base_uri": "https://localhost:8080/",
          "height": 527
        },
        "outputId": "ac19bb6c-71ab-437c-b262-3a94bb08a1f3"
      },
      "source": [
        "# CNNのモデル作成\n",
        "model = Sequential()\n",
        "\n",
        "model.add(Conv2D(32,(3,3),activation=\"relu\",input_shape=(IMG_WIDTH,IMG_HEIGHT,CHANNELS)))\n",
        "model.add(MaxPooling2D((2,2)))\n",
        " \n",
        "model.add(Conv2D(64,(3,3),activation=\"relu\"))\n",
        "model.add(MaxPooling2D((2,2)))\n",
        " \n",
        "model.add(Conv2D(128,(3,3),activation=\"relu\"))\n",
        "model.add(MaxPooling2D((2,2)))\n",
        " \n",
        "model.add(Conv2D(128,(3,3),activation=\"relu\"))\n",
        "model.add(MaxPooling2D((2,2),padding=\"SAME\"))\n",
        " \n",
        "model.add(Flatten())\n",
        " \n",
        "model.add(Dense(512,activation=\"relu\"))\n",
        "model.add(Dense(CLASSES,activation=\"sigmoid\"))\n",
        " \n",
        "model.summary()"
      ],
      "execution_count": 6,
      "outputs": [
        {
          "output_type": "stream",
          "text": [
            "Model: \"sequential\"\n",
            "_________________________________________________________________\n",
            "Layer (type)                 Output Shape              Param #   \n",
            "=================================================================\n",
            "conv2d (Conv2D)              (None, 62, 62, 32)        896       \n",
            "_________________________________________________________________\n",
            "max_pooling2d (MaxPooling2D) (None, 31, 31, 32)        0         \n",
            "_________________________________________________________________\n",
            "conv2d_1 (Conv2D)            (None, 29, 29, 64)        18496     \n",
            "_________________________________________________________________\n",
            "max_pooling2d_1 (MaxPooling2 (None, 14, 14, 64)        0         \n",
            "_________________________________________________________________\n",
            "conv2d_2 (Conv2D)            (None, 12, 12, 128)       73856     \n",
            "_________________________________________________________________\n",
            "max_pooling2d_2 (MaxPooling2 (None, 6, 6, 128)         0         \n",
            "_________________________________________________________________\n",
            "conv2d_3 (Conv2D)            (None, 4, 4, 128)         147584    \n",
            "_________________________________________________________________\n",
            "max_pooling2d_3 (MaxPooling2 (None, 2, 2, 128)         0         \n",
            "_________________________________________________________________\n",
            "flatten (Flatten)            (None, 512)               0         \n",
            "_________________________________________________________________\n",
            "dense (Dense)                (None, 512)               262656    \n",
            "_________________________________________________________________\n",
            "dense_1 (Dense)              (None, 131)               67203     \n",
            "=================================================================\n",
            "Total params: 570,691\n",
            "Trainable params: 570,691\n",
            "Non-trainable params: 0\n",
            "_________________________________________________________________\n"
          ],
          "name": "stdout"
        }
      ]
    },
    {
      "cell_type": "code",
      "metadata": {
        "id": "BIN96_cs_hnB",
        "colab_type": "code",
        "colab": {
          "base_uri": "https://localhost:8080/",
          "height": 1000
        },
        "outputId": "86725081-cb31-4ea2-e191-9713eb96f648"
      },
      "source": [
        "# 作成したモデルの可視化\n",
        "from IPython.display import SVG\n",
        "from tensorflow.python.keras.utils.vis_utils import model_to_dot\n",
        "\n",
        "SVG(model_to_dot(model, show_shapes=True, dpi=None).create(prog='dot', format='svg'))"
      ],
      "execution_count": 7,
      "outputs": [
        {
          "output_type": "execute_result",
          "data": {
            "text/plain": [
              "<IPython.core.display.SVG object>"
            ],
            "image/svg+xml": "<svg height=\"968pt\" viewBox=\"0.00 0.00 437.00 968.00\" width=\"437pt\" xmlns=\"http://www.w3.org/2000/svg\" xmlns:xlink=\"http://www.w3.org/1999/xlink\">\n<g class=\"graph\" id=\"graph0\" transform=\"scale(1 1) rotate(0) translate(4 964)\">\n<title>G</title>\n<polygon fill=\"#ffffff\" points=\"-4,4 -4,-964 433,-964 433,4 -4,4\" stroke=\"transparent\"/>\n<!-- dpi -->\n<g class=\"node\" id=\"node1\">\n<title>dpi</title>\n<ellipse cx=\"27\" cy=\"-936.5\" fill=\"none\" rx=\"27\" ry=\"18\" stroke=\"#000000\"/>\n<text fill=\"#000000\" font-family=\"Times,serif\" font-size=\"14.00\" text-anchor=\"middle\" x=\"27\" y=\"-932.8\">dpi</text>\n</g>\n<!-- 139622141306360 -->\n<g class=\"node\" id=\"node2\">\n<title>139622141306360</title>\n<polygon fill=\"none\" points=\"72,-913.5 72,-959.5 400,-959.5 400,-913.5 72,-913.5\" stroke=\"#000000\"/>\n<text fill=\"#000000\" font-family=\"Times,serif\" font-size=\"14.00\" text-anchor=\"middle\" x=\"156.5\" y=\"-932.8\">conv2d_input: InputLayer</text>\n<polyline fill=\"none\" points=\"241,-913.5 241,-959.5 \" stroke=\"#000000\"/>\n<text fill=\"#000000\" font-family=\"Times,serif\" font-size=\"14.00\" text-anchor=\"middle\" x=\"270\" y=\"-944.3\">input:</text>\n<polyline fill=\"none\" points=\"241,-936.5 299,-936.5 \" stroke=\"#000000\"/>\n<text fill=\"#000000\" font-family=\"Times,serif\" font-size=\"14.00\" text-anchor=\"middle\" x=\"270\" y=\"-921.3\">output:</text>\n<polyline fill=\"none\" points=\"299,-913.5 299,-959.5 \" stroke=\"#000000\"/>\n<text fill=\"#000000\" font-family=\"Times,serif\" font-size=\"14.00\" text-anchor=\"middle\" x=\"349.5\" y=\"-944.3\">[(?, 64, 64, 3)]</text>\n<polyline fill=\"none\" points=\"299,-936.5 400,-936.5 \" stroke=\"#000000\"/>\n<text fill=\"#000000\" font-family=\"Times,serif\" font-size=\"14.00\" text-anchor=\"middle\" x=\"349.5\" y=\"-921.3\">[(?, 64, 64, 3)]</text>\n</g>\n<!-- 139622141305072 -->\n<g class=\"node\" id=\"node3\">\n<title>139622141305072</title>\n<polygon fill=\"none\" points=\"98.5,-830.5 98.5,-876.5 373.5,-876.5 373.5,-830.5 98.5,-830.5\" stroke=\"#000000\"/>\n<text fill=\"#000000\" font-family=\"Times,serif\" font-size=\"14.00\" text-anchor=\"middle\" x=\"157.5\" y=\"-849.8\">conv2d: Conv2D</text>\n<polyline fill=\"none\" points=\"216.5,-830.5 216.5,-876.5 \" stroke=\"#000000\"/>\n<text fill=\"#000000\" font-family=\"Times,serif\" font-size=\"14.00\" text-anchor=\"middle\" x=\"245.5\" y=\"-861.3\">input:</text>\n<polyline fill=\"none\" points=\"216.5,-853.5 274.5,-853.5 \" stroke=\"#000000\"/>\n<text fill=\"#000000\" font-family=\"Times,serif\" font-size=\"14.00\" text-anchor=\"middle\" x=\"245.5\" y=\"-838.3\">output:</text>\n<polyline fill=\"none\" points=\"274.5,-830.5 274.5,-876.5 \" stroke=\"#000000\"/>\n<text fill=\"#000000\" font-family=\"Times,serif\" font-size=\"14.00\" text-anchor=\"middle\" x=\"324\" y=\"-861.3\">(?, 64, 64, 3)</text>\n<polyline fill=\"none\" points=\"274.5,-853.5 373.5,-853.5 \" stroke=\"#000000\"/>\n<text fill=\"#000000\" font-family=\"Times,serif\" font-size=\"14.00\" text-anchor=\"middle\" x=\"324\" y=\"-838.3\">(?, 62, 62, 32)</text>\n</g>\n<!-- 139622141306360&#45;&gt;139622141305072 -->\n<g class=\"edge\" id=\"edge1\">\n<title>139622141306360-&gt;139622141305072</title>\n<path d=\"M236,-913.3799C236,-905.1745 236,-895.7679 236,-886.8786\" fill=\"none\" stroke=\"#000000\"/>\n<polygon fill=\"#000000\" points=\"239.5001,-886.784 236,-876.784 232.5001,-886.784 239.5001,-886.784\" stroke=\"#000000\"/>\n</g>\n<!-- 139622141307536 -->\n<g class=\"node\" id=\"node4\">\n<title>139622141307536</title>\n<polygon fill=\"none\" points=\"54.5,-747.5 54.5,-793.5 417.5,-793.5 417.5,-747.5 54.5,-747.5\" stroke=\"#000000\"/>\n<text fill=\"#000000\" font-family=\"Times,serif\" font-size=\"14.00\" text-anchor=\"middle\" x=\"157.5\" y=\"-766.8\">max_pooling2d: MaxPooling2D</text>\n<polyline fill=\"none\" points=\"260.5,-747.5 260.5,-793.5 \" stroke=\"#000000\"/>\n<text fill=\"#000000\" font-family=\"Times,serif\" font-size=\"14.00\" text-anchor=\"middle\" x=\"289.5\" y=\"-778.3\">input:</text>\n<polyline fill=\"none\" points=\"260.5,-770.5 318.5,-770.5 \" stroke=\"#000000\"/>\n<text fill=\"#000000\" font-family=\"Times,serif\" font-size=\"14.00\" text-anchor=\"middle\" x=\"289.5\" y=\"-755.3\">output:</text>\n<polyline fill=\"none\" points=\"318.5,-747.5 318.5,-793.5 \" stroke=\"#000000\"/>\n<text fill=\"#000000\" font-family=\"Times,serif\" font-size=\"14.00\" text-anchor=\"middle\" x=\"368\" y=\"-778.3\">(?, 62, 62, 32)</text>\n<polyline fill=\"none\" points=\"318.5,-770.5 417.5,-770.5 \" stroke=\"#000000\"/>\n<text fill=\"#000000\" font-family=\"Times,serif\" font-size=\"14.00\" text-anchor=\"middle\" x=\"368\" y=\"-755.3\">(?, 31, 31, 32)</text>\n</g>\n<!-- 139622141305072&#45;&gt;139622141307536 -->\n<g class=\"edge\" id=\"edge2\">\n<title>139622141305072-&gt;139622141307536</title>\n<path d=\"M236,-830.3799C236,-822.1745 236,-812.7679 236,-803.8786\" fill=\"none\" stroke=\"#000000\"/>\n<polygon fill=\"#000000\" points=\"239.5001,-803.784 236,-793.784 232.5001,-803.784 239.5001,-803.784\" stroke=\"#000000\"/>\n</g>\n<!-- 139622141308152 -->\n<g class=\"node\" id=\"node5\">\n<title>139622141308152</title>\n<polygon fill=\"none\" points=\"91,-664.5 91,-710.5 381,-710.5 381,-664.5 91,-664.5\" stroke=\"#000000\"/>\n<text fill=\"#000000\" font-family=\"Times,serif\" font-size=\"14.00\" text-anchor=\"middle\" x=\"157.5\" y=\"-683.8\">conv2d_1: Conv2D</text>\n<polyline fill=\"none\" points=\"224,-664.5 224,-710.5 \" stroke=\"#000000\"/>\n<text fill=\"#000000\" font-family=\"Times,serif\" font-size=\"14.00\" text-anchor=\"middle\" x=\"253\" y=\"-695.3\">input:</text>\n<polyline fill=\"none\" points=\"224,-687.5 282,-687.5 \" stroke=\"#000000\"/>\n<text fill=\"#000000\" font-family=\"Times,serif\" font-size=\"14.00\" text-anchor=\"middle\" x=\"253\" y=\"-672.3\">output:</text>\n<polyline fill=\"none\" points=\"282,-664.5 282,-710.5 \" stroke=\"#000000\"/>\n<text fill=\"#000000\" font-family=\"Times,serif\" font-size=\"14.00\" text-anchor=\"middle\" x=\"331.5\" y=\"-695.3\">(?, 31, 31, 32)</text>\n<polyline fill=\"none\" points=\"282,-687.5 381,-687.5 \" stroke=\"#000000\"/>\n<text fill=\"#000000\" font-family=\"Times,serif\" font-size=\"14.00\" text-anchor=\"middle\" x=\"331.5\" y=\"-672.3\">(?, 29, 29, 64)</text>\n</g>\n<!-- 139622141307536&#45;&gt;139622141308152 -->\n<g class=\"edge\" id=\"edge3\">\n<title>139622141307536-&gt;139622141308152</title>\n<path d=\"M236,-747.3799C236,-739.1745 236,-729.7679 236,-720.8786\" fill=\"none\" stroke=\"#000000\"/>\n<polygon fill=\"#000000\" points=\"239.5001,-720.784 236,-710.784 232.5001,-720.784 239.5001,-720.784\" stroke=\"#000000\"/>\n</g>\n<!-- 139622141093984 -->\n<g class=\"node\" id=\"node6\">\n<title>139622141093984</title>\n<polygon fill=\"none\" points=\"47,-581.5 47,-627.5 425,-627.5 425,-581.5 47,-581.5\" stroke=\"#000000\"/>\n<text fill=\"#000000\" font-family=\"Times,serif\" font-size=\"14.00\" text-anchor=\"middle\" x=\"157.5\" y=\"-600.8\">max_pooling2d_1: MaxPooling2D</text>\n<polyline fill=\"none\" points=\"268,-581.5 268,-627.5 \" stroke=\"#000000\"/>\n<text fill=\"#000000\" font-family=\"Times,serif\" font-size=\"14.00\" text-anchor=\"middle\" x=\"297\" y=\"-612.3\">input:</text>\n<polyline fill=\"none\" points=\"268,-604.5 326,-604.5 \" stroke=\"#000000\"/>\n<text fill=\"#000000\" font-family=\"Times,serif\" font-size=\"14.00\" text-anchor=\"middle\" x=\"297\" y=\"-589.3\">output:</text>\n<polyline fill=\"none\" points=\"326,-581.5 326,-627.5 \" stroke=\"#000000\"/>\n<text fill=\"#000000\" font-family=\"Times,serif\" font-size=\"14.00\" text-anchor=\"middle\" x=\"375.5\" y=\"-612.3\">(?, 29, 29, 64)</text>\n<polyline fill=\"none\" points=\"326,-604.5 425,-604.5 \" stroke=\"#000000\"/>\n<text fill=\"#000000\" font-family=\"Times,serif\" font-size=\"14.00\" text-anchor=\"middle\" x=\"375.5\" y=\"-589.3\">(?, 14, 14, 64)</text>\n</g>\n<!-- 139622141308152&#45;&gt;139622141093984 -->\n<g class=\"edge\" id=\"edge4\">\n<title>139622141308152-&gt;139622141093984</title>\n<path d=\"M236,-664.3799C236,-656.1745 236,-646.7679 236,-637.8786\" fill=\"none\" stroke=\"#000000\"/>\n<polygon fill=\"#000000\" points=\"239.5001,-637.784 236,-627.784 232.5001,-637.784 239.5001,-637.784\" stroke=\"#000000\"/>\n</g>\n<!-- 139622141095888 -->\n<g class=\"node\" id=\"node7\">\n<title>139622141095888</title>\n<polygon fill=\"none\" points=\"87,-498.5 87,-544.5 385,-544.5 385,-498.5 87,-498.5\" stroke=\"#000000\"/>\n<text fill=\"#000000\" font-family=\"Times,serif\" font-size=\"14.00\" text-anchor=\"middle\" x=\"153.5\" y=\"-517.8\">conv2d_2: Conv2D</text>\n<polyline fill=\"none\" points=\"220,-498.5 220,-544.5 \" stroke=\"#000000\"/>\n<text fill=\"#000000\" font-family=\"Times,serif\" font-size=\"14.00\" text-anchor=\"middle\" x=\"249\" y=\"-529.3\">input:</text>\n<polyline fill=\"none\" points=\"220,-521.5 278,-521.5 \" stroke=\"#000000\"/>\n<text fill=\"#000000\" font-family=\"Times,serif\" font-size=\"14.00\" text-anchor=\"middle\" x=\"249\" y=\"-506.3\">output:</text>\n<polyline fill=\"none\" points=\"278,-498.5 278,-544.5 \" stroke=\"#000000\"/>\n<text fill=\"#000000\" font-family=\"Times,serif\" font-size=\"14.00\" text-anchor=\"middle\" x=\"331.5\" y=\"-529.3\">(?, 14, 14, 64)</text>\n<polyline fill=\"none\" points=\"278,-521.5 385,-521.5 \" stroke=\"#000000\"/>\n<text fill=\"#000000\" font-family=\"Times,serif\" font-size=\"14.00\" text-anchor=\"middle\" x=\"331.5\" y=\"-506.3\">(?, 12, 12, 128)</text>\n</g>\n<!-- 139622141093984&#45;&gt;139622141095888 -->\n<g class=\"edge\" id=\"edge5\">\n<title>139622141093984-&gt;139622141095888</title>\n<path d=\"M236,-581.3799C236,-573.1745 236,-563.7679 236,-554.8786\" fill=\"none\" stroke=\"#000000\"/>\n<polygon fill=\"#000000\" points=\"239.5001,-554.784 236,-544.784 232.5001,-554.784 239.5001,-554.784\" stroke=\"#000000\"/>\n</g>\n<!-- 139622141168272 -->\n<g class=\"node\" id=\"node8\">\n<title>139622141168272</title>\n<polygon fill=\"none\" points=\"43,-415.5 43,-461.5 429,-461.5 429,-415.5 43,-415.5\" stroke=\"#000000\"/>\n<text fill=\"#000000\" font-family=\"Times,serif\" font-size=\"14.00\" text-anchor=\"middle\" x=\"153.5\" y=\"-434.8\">max_pooling2d_2: MaxPooling2D</text>\n<polyline fill=\"none\" points=\"264,-415.5 264,-461.5 \" stroke=\"#000000\"/>\n<text fill=\"#000000\" font-family=\"Times,serif\" font-size=\"14.00\" text-anchor=\"middle\" x=\"293\" y=\"-446.3\">input:</text>\n<polyline fill=\"none\" points=\"264,-438.5 322,-438.5 \" stroke=\"#000000\"/>\n<text fill=\"#000000\" font-family=\"Times,serif\" font-size=\"14.00\" text-anchor=\"middle\" x=\"293\" y=\"-423.3\">output:</text>\n<polyline fill=\"none\" points=\"322,-415.5 322,-461.5 \" stroke=\"#000000\"/>\n<text fill=\"#000000\" font-family=\"Times,serif\" font-size=\"14.00\" text-anchor=\"middle\" x=\"375.5\" y=\"-446.3\">(?, 12, 12, 128)</text>\n<polyline fill=\"none\" points=\"322,-438.5 429,-438.5 \" stroke=\"#000000\"/>\n<text fill=\"#000000\" font-family=\"Times,serif\" font-size=\"14.00\" text-anchor=\"middle\" x=\"375.5\" y=\"-423.3\">(?, 6, 6, 128)</text>\n</g>\n<!-- 139622141095888&#45;&gt;139622141168272 -->\n<g class=\"edge\" id=\"edge6\">\n<title>139622141095888-&gt;139622141168272</title>\n<path d=\"M236,-498.3799C236,-490.1745 236,-480.7679 236,-471.8786\" fill=\"none\" stroke=\"#000000\"/>\n<polygon fill=\"#000000\" points=\"239.5001,-471.784 236,-461.784 232.5001,-471.784 239.5001,-471.784\" stroke=\"#000000\"/>\n</g>\n<!-- 139622141169336 -->\n<g class=\"node\" id=\"node9\">\n<title>139622141169336</title>\n<polygon fill=\"none\" points=\"94.5,-332.5 94.5,-378.5 377.5,-378.5 377.5,-332.5 94.5,-332.5\" stroke=\"#000000\"/>\n<text fill=\"#000000\" font-family=\"Times,serif\" font-size=\"14.00\" text-anchor=\"middle\" x=\"161\" y=\"-351.8\">conv2d_3: Conv2D</text>\n<polyline fill=\"none\" points=\"227.5,-332.5 227.5,-378.5 \" stroke=\"#000000\"/>\n<text fill=\"#000000\" font-family=\"Times,serif\" font-size=\"14.00\" text-anchor=\"middle\" x=\"256.5\" y=\"-363.3\">input:</text>\n<polyline fill=\"none\" points=\"227.5,-355.5 285.5,-355.5 \" stroke=\"#000000\"/>\n<text fill=\"#000000\" font-family=\"Times,serif\" font-size=\"14.00\" text-anchor=\"middle\" x=\"256.5\" y=\"-340.3\">output:</text>\n<polyline fill=\"none\" points=\"285.5,-332.5 285.5,-378.5 \" stroke=\"#000000\"/>\n<text fill=\"#000000\" font-family=\"Times,serif\" font-size=\"14.00\" text-anchor=\"middle\" x=\"331.5\" y=\"-363.3\">(?, 6, 6, 128)</text>\n<polyline fill=\"none\" points=\"285.5,-355.5 377.5,-355.5 \" stroke=\"#000000\"/>\n<text fill=\"#000000\" font-family=\"Times,serif\" font-size=\"14.00\" text-anchor=\"middle\" x=\"331.5\" y=\"-340.3\">(?, 4, 4, 128)</text>\n</g>\n<!-- 139622141168272&#45;&gt;139622141169336 -->\n<g class=\"edge\" id=\"edge7\">\n<title>139622141168272-&gt;139622141169336</title>\n<path d=\"M236,-415.3799C236,-407.1745 236,-397.7679 236,-388.8786\" fill=\"none\" stroke=\"#000000\"/>\n<polygon fill=\"#000000\" points=\"239.5001,-388.784 236,-378.784 232.5001,-388.784 239.5001,-388.784\" stroke=\"#000000\"/>\n</g>\n<!-- 139622141204856 -->\n<g class=\"node\" id=\"node10\">\n<title>139622141204856</title>\n<polygon fill=\"none\" points=\"50.5,-249.5 50.5,-295.5 421.5,-295.5 421.5,-249.5 50.5,-249.5\" stroke=\"#000000\"/>\n<text fill=\"#000000\" font-family=\"Times,serif\" font-size=\"14.00\" text-anchor=\"middle\" x=\"161\" y=\"-268.8\">max_pooling2d_3: MaxPooling2D</text>\n<polyline fill=\"none\" points=\"271.5,-249.5 271.5,-295.5 \" stroke=\"#000000\"/>\n<text fill=\"#000000\" font-family=\"Times,serif\" font-size=\"14.00\" text-anchor=\"middle\" x=\"300.5\" y=\"-280.3\">input:</text>\n<polyline fill=\"none\" points=\"271.5,-272.5 329.5,-272.5 \" stroke=\"#000000\"/>\n<text fill=\"#000000\" font-family=\"Times,serif\" font-size=\"14.00\" text-anchor=\"middle\" x=\"300.5\" y=\"-257.3\">output:</text>\n<polyline fill=\"none\" points=\"329.5,-249.5 329.5,-295.5 \" stroke=\"#000000\"/>\n<text fill=\"#000000\" font-family=\"Times,serif\" font-size=\"14.00\" text-anchor=\"middle\" x=\"375.5\" y=\"-280.3\">(?, 4, 4, 128)</text>\n<polyline fill=\"none\" points=\"329.5,-272.5 421.5,-272.5 \" stroke=\"#000000\"/>\n<text fill=\"#000000\" font-family=\"Times,serif\" font-size=\"14.00\" text-anchor=\"middle\" x=\"375.5\" y=\"-257.3\">(?, 2, 2, 128)</text>\n</g>\n<!-- 139622141169336&#45;&gt;139622141204856 -->\n<g class=\"edge\" id=\"edge8\">\n<title>139622141169336-&gt;139622141204856</title>\n<path d=\"M236,-332.3799C236,-324.1745 236,-314.7679 236,-305.8786\" fill=\"none\" stroke=\"#000000\"/>\n<polygon fill=\"#000000\" points=\"239.5001,-305.784 236,-295.784 232.5001,-305.784 239.5001,-305.784\" stroke=\"#000000\"/>\n</g>\n<!-- 139622141204016 -->\n<g class=\"node\" id=\"node11\">\n<title>139622141204016</title>\n<polygon fill=\"none\" points=\"112,-166.5 112,-212.5 360,-212.5 360,-166.5 112,-166.5\" stroke=\"#000000\"/>\n<text fill=\"#000000\" font-family=\"Times,serif\" font-size=\"14.00\" text-anchor=\"middle\" x=\"161\" y=\"-185.8\">flatten: Flatten</text>\n<polyline fill=\"none\" points=\"210,-166.5 210,-212.5 \" stroke=\"#000000\"/>\n<text fill=\"#000000\" font-family=\"Times,serif\" font-size=\"14.00\" text-anchor=\"middle\" x=\"239\" y=\"-197.3\">input:</text>\n<polyline fill=\"none\" points=\"210,-189.5 268,-189.5 \" stroke=\"#000000\"/>\n<text fill=\"#000000\" font-family=\"Times,serif\" font-size=\"14.00\" text-anchor=\"middle\" x=\"239\" y=\"-174.3\">output:</text>\n<polyline fill=\"none\" points=\"268,-166.5 268,-212.5 \" stroke=\"#000000\"/>\n<text fill=\"#000000\" font-family=\"Times,serif\" font-size=\"14.00\" text-anchor=\"middle\" x=\"314\" y=\"-197.3\">(?, 2, 2, 128)</text>\n<polyline fill=\"none\" points=\"268,-189.5 360,-189.5 \" stroke=\"#000000\"/>\n<text fill=\"#000000\" font-family=\"Times,serif\" font-size=\"14.00\" text-anchor=\"middle\" x=\"314\" y=\"-174.3\">(?, 512)</text>\n</g>\n<!-- 139622141204856&#45;&gt;139622141204016 -->\n<g class=\"edge\" id=\"edge9\">\n<title>139622141204856-&gt;139622141204016</title>\n<path d=\"M236,-249.3799C236,-241.1745 236,-231.7679 236,-222.8786\" fill=\"none\" stroke=\"#000000\"/>\n<polygon fill=\"#000000\" points=\"239.5001,-222.784 236,-212.784 232.5001,-222.784 239.5001,-222.784\" stroke=\"#000000\"/>\n</g>\n<!-- 139622141204464 -->\n<g class=\"node\" id=\"node12\">\n<title>139622141204464</title>\n<polygon fill=\"none\" points=\"130,-83.5 130,-129.5 342,-129.5 342,-83.5 130,-83.5\" stroke=\"#000000\"/>\n<text fill=\"#000000\" font-family=\"Times,serif\" font-size=\"14.00\" text-anchor=\"middle\" x=\"176\" y=\"-102.8\">dense: Dense</text>\n<polyline fill=\"none\" points=\"222,-83.5 222,-129.5 \" stroke=\"#000000\"/>\n<text fill=\"#000000\" font-family=\"Times,serif\" font-size=\"14.00\" text-anchor=\"middle\" x=\"251\" y=\"-114.3\">input:</text>\n<polyline fill=\"none\" points=\"222,-106.5 280,-106.5 \" stroke=\"#000000\"/>\n<text fill=\"#000000\" font-family=\"Times,serif\" font-size=\"14.00\" text-anchor=\"middle\" x=\"251\" y=\"-91.3\">output:</text>\n<polyline fill=\"none\" points=\"280,-83.5 280,-129.5 \" stroke=\"#000000\"/>\n<text fill=\"#000000\" font-family=\"Times,serif\" font-size=\"14.00\" text-anchor=\"middle\" x=\"311\" y=\"-114.3\">(?, 512)</text>\n<polyline fill=\"none\" points=\"280,-106.5 342,-106.5 \" stroke=\"#000000\"/>\n<text fill=\"#000000\" font-family=\"Times,serif\" font-size=\"14.00\" text-anchor=\"middle\" x=\"311\" y=\"-91.3\">(?, 512)</text>\n</g>\n<!-- 139622141204016&#45;&gt;139622141204464 -->\n<g class=\"edge\" id=\"edge10\">\n<title>139622141204016-&gt;139622141204464</title>\n<path d=\"M236,-166.3799C236,-158.1745 236,-148.7679 236,-139.8786\" fill=\"none\" stroke=\"#000000\"/>\n<polygon fill=\"#000000\" points=\"239.5001,-139.784 236,-129.784 232.5001,-139.784 239.5001,-139.784\" stroke=\"#000000\"/>\n</g>\n<!-- 139622141240488 -->\n<g class=\"node\" id=\"node13\">\n<title>139622141240488</title>\n<polygon fill=\"none\" points=\"122.5,-.5 122.5,-46.5 349.5,-46.5 349.5,-.5 122.5,-.5\" stroke=\"#000000\"/>\n<text fill=\"#000000\" font-family=\"Times,serif\" font-size=\"14.00\" text-anchor=\"middle\" x=\"176\" y=\"-19.8\">dense_1: Dense</text>\n<polyline fill=\"none\" points=\"229.5,-.5 229.5,-46.5 \" stroke=\"#000000\"/>\n<text fill=\"#000000\" font-family=\"Times,serif\" font-size=\"14.00\" text-anchor=\"middle\" x=\"258.5\" y=\"-31.3\">input:</text>\n<polyline fill=\"none\" points=\"229.5,-23.5 287.5,-23.5 \" stroke=\"#000000\"/>\n<text fill=\"#000000\" font-family=\"Times,serif\" font-size=\"14.00\" text-anchor=\"middle\" x=\"258.5\" y=\"-8.3\">output:</text>\n<polyline fill=\"none\" points=\"287.5,-.5 287.5,-46.5 \" stroke=\"#000000\"/>\n<text fill=\"#000000\" font-family=\"Times,serif\" font-size=\"14.00\" text-anchor=\"middle\" x=\"318.5\" y=\"-31.3\">(?, 512)</text>\n<polyline fill=\"none\" points=\"287.5,-23.5 349.5,-23.5 \" stroke=\"#000000\"/>\n<text fill=\"#000000\" font-family=\"Times,serif\" font-size=\"14.00\" text-anchor=\"middle\" x=\"318.5\" y=\"-8.3\">(?, 131)</text>\n</g>\n<!-- 139622141204464&#45;&gt;139622141240488 -->\n<g class=\"edge\" id=\"edge11\">\n<title>139622141204464-&gt;139622141240488</title>\n<path d=\"M236,-83.3799C236,-75.1745 236,-65.7679 236,-56.8786\" fill=\"none\" stroke=\"#000000\"/>\n<polygon fill=\"#000000\" points=\"239.5001,-56.784 236,-46.784 232.5001,-56.784 239.5001,-56.784\" stroke=\"#000000\"/>\n</g>\n</g>\n</svg>"
          },
          "metadata": {
            "tags": []
          },
          "execution_count": 7
        }
      ]
    },
    {
      "cell_type": "code",
      "metadata": {
        "id": "p1gXVJD5HTQ0",
        "colab_type": "code",
        "colab": {
          "base_uri": "https://localhost:8080/",
          "height": 102
        },
        "outputId": "65ce9a37-1cba-4023-fbd6-1ea8eef7336a"
      },
      "source": [
        "# モデルの学習方法について指定\n",
        "model.compile(loss = keras.losses.categorical_crossentropy,\n",
        "              optimizer = keras.optimizers.RMSprop(lr=1e-4, decay = 1e-6),\n",
        "              metrics=['accuracy'])\n",
        " \n",
        "STEP_SIZE_TRAIN=train_generator.n // train_generator.batch_size\n",
        "STEP_SIZE_VALID=validation_generator.n  // validation_generator.batch_size\n",
        "epochs = 10\n",
        "\n",
        "# 学習 \n",
        "result = model.fit_generator(train_generator,\n",
        "                             steps_per_epoch=STEP_SIZE_TRAIN,\n",
        "                             epochs=epochs,\n",
        "                             validation_data=validation_generator,\n",
        "                             validation_steps=STEP_SIZE_VALID)"
      ],
      "execution_count": null,
      "outputs": [
        {
          "output_type": "stream",
          "text": [
            "WARNING:tensorflow:From <ipython-input-8-094cd754f903>:15: Model.fit_generator (from tensorflow.python.keras.engine.training) is deprecated and will be removed in a future version.\n",
            "Instructions for updating:\n",
            "Please use Model.fit, which supports generators.\n",
            "Epoch 1/10\n",
            "103/423 [======>.......................] - ETA: 2:46:33 - loss: 4.6149 - accuracy: 0.0391"
          ],
          "name": "stdout"
        }
      ]
    },
    {
      "cell_type": "code",
      "metadata": {
        "id": "HVgOKNWPu_8h",
        "colab_type": "code",
        "colab": {}
      },
      "source": [
        "result.history.keys()"
      ],
      "execution_count": null,
      "outputs": []
    },
    {
      "cell_type": "markdown",
      "metadata": {
        "id": "Vo9-x8aHANGo",
        "colab_type": "text"
      },
      "source": [
        "### **学習状況の可視化**"
      ]
    },
    {
      "cell_type": "code",
      "metadata": {
        "id": "UPiDmVIHR9-M",
        "colab_type": "code",
        "colab": {}
      },
      "source": [
        "plt.style.use('fivethirtyeight')\n",
        "plt.title('Model Accuracy')\n",
        "plt.plot(range(1, epochs+1), result.history['accuracy'], label=\"training\")\n",
        "plt.plot(range(1, epochs+1), result.history['val_accuracy'], label=\"validation\")\n",
        "plt.xlabel('Epochs')\n",
        "plt.ylabel('Accuracy')\n",
        "plt.legend()\n",
        "plt.show()"
      ],
      "execution_count": null,
      "outputs": []
    },
    {
      "cell_type": "code",
      "metadata": {
        "id": "thE8dpD-tcxR",
        "colab_type": "code",
        "colab": {}
      },
      "source": [
        "plt.style.use('fivethirtyeight')\n",
        "plt.title('Model Loss')\n",
        "plt.plot(range(1, epochs+1), result.history['loss'], label=\"training\")\n",
        "plt.plot(range(1, epochs+1), result.history['val_loss'], label=\"validation\")\n",
        "plt.xlabel('Epochs')\n",
        "plt.ylabel('Loss')\n",
        "plt.legend()\n",
        "plt.show()"
      ],
      "execution_count": null,
      "outputs": []
    },
    {
      "cell_type": "markdown",
      "metadata": {
        "id": "EPF3siOiwQvd",
        "colab_type": "text"
      },
      "source": [
        "### **モデルの保存**"
      ]
    },
    {
      "cell_type": "code",
      "metadata": {
        "id": "cQ0PRE5ywVx0",
        "colab_type": "code",
        "colab": {}
      },
      "source": [
        "model.save('/content/drive/My Drive/Colab Notebooks/FruitDiscrimination/model/BaseModel_CNN.h5') "
      ],
      "execution_count": null,
      "outputs": []
    }
  ]
}